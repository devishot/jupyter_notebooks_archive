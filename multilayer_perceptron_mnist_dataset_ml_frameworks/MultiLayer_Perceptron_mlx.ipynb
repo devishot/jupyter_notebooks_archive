{
 "cells": [
  {
   "cell_type": "code",
   "execution_count": 2,
   "metadata": {},
   "outputs": [],
   "source": [
    "import argparse\n",
    "import time\n",
    "from functools import partial\n",
    "\n",
    "import mlx.core as mx\n",
    "import mlx.nn as nn\n",
    "import mlx.optimizers as optim\n",
    "import numpy as np\n",
    "\n",
    "from tensorflow.keras.datasets import mnist as mnist_dataset"
   ]
  },
  {
   "cell_type": "code",
   "execution_count": 3,
   "metadata": {},
   "outputs": [],
   "source": [
    "mx.set_default_device(mx.gpu)"
   ]
  },
  {
   "cell_type": "code",
   "execution_count": 4,
   "metadata": {},
   "outputs": [],
   "source": [
    "class MLP(nn.Module):\n",
    "    \"\"\"A simple MLP.\"\"\"\n",
    "\n",
    "    def __init__(\n",
    "        self, num_layers: int, input_dim: int, hidden_dim: int, output_dim: int\n",
    "    ):\n",
    "        super().__init__()\n",
    "        layer_sizes = [input_dim] + [hidden_dim] * num_layers + [output_dim]\n",
    "        self.layers = [\n",
    "            nn.Linear(idim, odim)\n",
    "            for idim, odim in zip(layer_sizes[:-1], layer_sizes[1:])\n",
    "        ]\n",
    "\n",
    "    def __call__(self, x):\n",
    "        for l in self.layers[:-1]:\n",
    "            x = nn.relu(l(x))\n",
    "        return self.layers[-1](x)"
   ]
  },
  {
   "cell_type": "code",
   "execution_count": 5,
   "metadata": {},
   "outputs": [],
   "source": [
    "def loss_fn(model, X, y):\n",
    "    return nn.losses.cross_entropy(model(X), y, reduction=\"mean\")\n",
    "\n",
    "def batch_iterate(batch_size, X, y):\n",
    "    perm = mx.array(np.random.permutation(y.size))\n",
    "    for s in range(0, y.size, batch_size):\n",
    "        ids = perm[s : s + batch_size]\n",
    "        yield X[ids], y[ids]"
   ]
  },
  {
   "cell_type": "code",
   "execution_count": 6,
   "metadata": {},
   "outputs": [],
   "source": [
    "seed = 0\n",
    "num_layers = 2\n",
    "hidden_dim = 32\n",
    "num_classes = 10\n",
    "batch_size = 256\n",
    "num_epochs = 10\n",
    "learning_rate = 1e-1\n",
    "\n",
    "np.random.seed(seed)"
   ]
  },
  {
   "cell_type": "code",
   "execution_count": 7,
   "metadata": {},
   "outputs": [
    {
     "name": "stdout",
     "output_type": "stream",
     "text": [
      "Feature matrix (x_train): (60000, 784)\n",
      "Target matrix (y_train): (60000,)\n",
      "Feature matrix (x_test): (10000, 784)\n",
      "Target matrix (y_test): (10000,)\n"
     ]
    }
   ],
   "source": [
    "# Load MNIST dataset\n",
    "(x_train, y_train), (x_test, y_test) = mnist_dataset.load_data()\n",
    "\n",
    "# Normalize image pixel values by dividing by 255 (grayscale)\n",
    "gray_scale = 255\n",
    "\n",
    "x_train = x_train.astype('float32') / gray_scale\n",
    "x_test = x_test.astype('float32') / gray_scale\n",
    "\n",
    "# Reshape from ({examples}, 28, 28) into ({examples, 28 * 28)\n",
    "x_train = x_train.reshape(-1, 28 * 28)\n",
    "x_test = x_test.reshape(-1, 28 * 28)\n",
    "\n",
    "# Checking the shape of feature and target matrices\n",
    "print(\"Feature matrix (x_train):\", x_train.shape)\n",
    "print(\"Target matrix (y_train):\", y_train.shape)\n",
    "print(\"Feature matrix (x_test):\", x_test.shape)\n",
    "print(\"Target matrix (y_test):\", y_test.shape)\n",
    "\n",
    "\n",
    "assert x_train.shape == (60000, 28 * 28), \"Wrong training set size\"\n",
    "assert y_train.shape == (60000,), \"Wrong training set size\"\n",
    "assert x_test.shape == (10000, 28 * 28), \"Wrong test set size\"\n",
    "assert y_test.shape == (10000,), \"Wrong test set size\"\n",
    "\n",
    "\n",
    "# Convert TensortFlow array into MLX array\n",
    "train_images, train_labels, test_images, test_labels = mx.array(x_train), mx.array(y_train), mx.array(x_test), mx.array(y_test)"
   ]
  },
  {
   "cell_type": "code",
   "execution_count": 8,
   "metadata": {},
   "outputs": [],
   "source": [
    "# Load the model\n",
    "model = MLP(num_layers, train_images.shape[-1], hidden_dim, num_classes)\n",
    "mx.eval(model.parameters())\n",
    "\n",
    "# Use Stochastic Gradient Descent (SGD) optimizer\n",
    "optimizer = optim.SGD(learning_rate=learning_rate)\n",
    "loss_and_grad_fn = nn.value_and_grad(model, loss_fn)\n"
   ]
  },
  {
   "cell_type": "code",
   "execution_count": 9,
   "metadata": {},
   "outputs": [
    {
     "name": "stdout",
     "output_type": "stream",
     "text": [
      "Epoch 0: Test accuracy 0.834, Time 0.225 (s)\n",
      "Epoch 1: Test accuracy 0.898, Time 0.193 (s)\n",
      "Epoch 2: Test accuracy 0.911, Time 0.156 (s)\n",
      "Epoch 3: Test accuracy 0.927, Time 0.153 (s)\n",
      "Epoch 4: Test accuracy 0.934, Time 0.152 (s)\n",
      "Epoch 5: Test accuracy 0.923, Time 0.158 (s)\n",
      "Epoch 6: Test accuracy 0.942, Time 0.156 (s)\n",
      "Epoch 7: Test accuracy 0.940, Time 0.154 (s)\n",
      "Epoch 8: Test accuracy 0.950, Time 0.153 (s)\n",
      "Epoch 9: Test accuracy 0.950, Time 0.152 (s)\n"
     ]
    }
   ],
   "source": [
    "@partial(mx.compile, inputs=model.state, outputs=model.state)\n",
    "def step(X, y):\n",
    "    loss, grads = loss_and_grad_fn(model, X, y)\n",
    "    optimizer.update(model, grads)\n",
    "    return loss\n",
    "\n",
    "@partial(mx.compile, inputs=model.state)\n",
    "def eval_fn(X, y):\n",
    "    return mx.mean(mx.argmax(model(X), axis=1) == y)\n",
    "\n",
    "for e in range(num_epochs):\n",
    "    tic = time.perf_counter()\n",
    "    for X, y in batch_iterate(batch_size, train_images, train_labels):\n",
    "        step(X, y)\n",
    "        mx.eval(model.state)\n",
    "    accuracy = eval_fn(test_images, test_labels)\n",
    "    toc = time.perf_counter()\n",
    "    print(\n",
    "        f\"Epoch {e}: Test accuracy {accuracy.item():.3f},\"\n",
    "        f\" Time {toc - tic:.3f} (s)\"\n",
    "    )\n",
    "    "
   ]
  }
 ],
 "metadata": {
  "kernelspec": {
   "display_name": "apple_ml",
   "language": "python",
   "name": "python3"
  },
  "language_info": {
   "codemirror_mode": {
    "name": "ipython",
    "version": 3
   },
   "file_extension": ".py",
   "mimetype": "text/x-python",
   "name": "python",
   "nbconvert_exporter": "python",
   "pygments_lexer": "ipython3",
   "version": "3.12.9"
  }
 },
 "nbformat": 4,
 "nbformat_minor": 2
}
