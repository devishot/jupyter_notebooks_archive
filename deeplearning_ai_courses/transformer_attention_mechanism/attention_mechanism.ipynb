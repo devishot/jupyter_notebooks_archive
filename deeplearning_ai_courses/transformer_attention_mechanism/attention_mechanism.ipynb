{
 "cells": [
  {
   "cell_type": "markdown",
   "id": "7776fe69",
   "metadata": {},
   "source": [
    "# Attention Mechanism\n",
    "\n",
    "[DeepLearning.ai: Attention in Transformers: Concepts and Code in PyTorch](https://learn.deeplearning.ai/courses/attention-in-transformers-concepts-and-code-in-pytorch/lesson/gb20l/the-matrix-math-for-calculating-self-attention)"
   ]
  },
  {
   "cell_type": "markdown",
   "id": "b2fc44d0",
   "metadata": {
    "vscode": {
     "languageId": "latex"
    }
   },
   "source": [
    "Process: \n",
    "1. Input tokenized\n",
    "2. Input embedded `(n, 512)` matrix, where n – number of words, each word presented in 512-size dimension\n",
    "3. Calculate Q, K, V matrixes: \n",
    "      - `(n, 512) x (512, 512)^T = (n, 512)`, \n",
    "      - where multiplying matrix of words `(n, 512)` \n",
    "      - with Q/K/V weights `(512, 512)` that are transposed as PyTorch always store weights in a way where ther should be transposed first,\n",
    "      - and get resulting matrix of `(n, 512)`\n",
    "4. Calculate self attention\n",
    "      $$\n",
    "      \\text{Attention}(Q, K, V) = \\text{softmax} \\left( \\frac{Q K^\\top}{\\sqrt{d_k}} \\right) V\n",
    "      $$\n",
    "\n",
    "      - Query matrix: $Q$\n",
    "      - Key matrix: $K$\n",
    "      - Value matrix: $V$\n",
    "      - Dimension of key vectors: $d_k$, where in our case it's 512\n",
    "      - Activation function: $softmax()$ applied to each row, which makes sum of values on the row equal to 1\n",
    "\n",
    "![Attention Mechanism Diagram](../images/self-attention-QKV.png)\n",
    "\n",
    "Note:\n",
    "- **Dot products** can be used as an unscaled measure of similarity between two things. This metric becomes especially powerful when **comparing vectors like Queries and Keysin the Attention mechanism**. \n",
    "- The higher the Dot Product between a Query and a Key, the more similar they are considered to be, which leads to a stronger influence of the corresponding value in the final output. \n",
    "- However, as the dimensionality of these vectors increases, the **raw Dot Product values can become large**, which may **push the Softmax function into regions with very small gradients**. \n",
    "- To counteract this, **the Dot Product** is scaled by the square root of the key dimension $\\sqrt{d_k}$, ensuring more stable gradients and improved training dynamics.\n",
    "\n"
   ]
  },
  {
   "cell_type": "code",
   "execution_count": 1,
   "id": "f087d72b",
   "metadata": {},
   "outputs": [],
   "source": [
    "import torch\n",
    "import torch.nn as nn\n",
    "import torch.nn.functional as F"
   ]
  },
  {
   "cell_type": "markdown",
   "id": "ff3cc164",
   "metadata": {},
   "source": [
    "## Self Attention"
   ]
  },
  {
   "cell_type": "code",
   "execution_count": 27,
   "id": "4cafe72a",
   "metadata": {},
   "outputs": [],
   "source": [
    "class SelfAttention(nn.Module):\n",
    "    # d_model - size of word embeddings per token (i.e. 512) \n",
    "    #           and alos dimension of weight matrixes that used to create Q, K, V matrixes\n",
    "    def __init__(self, d_model=2, row_dim=0, col_dim=1):\n",
    "        super().__init__()\n",
    "\n",
    "        self.W_q = nn.Linear(in_features=d_model, out_features=d_model, bias=False)\n",
    "        self.W_k = nn.Linear(in_features=d_model, out_features=d_model, bias=False)\n",
    "        self.W_v = nn.Linear(in_features=d_model, out_features=d_model, bias=False)\n",
    "\n",
    "        self.row_dim = row_dim\n",
    "        self.col_dim = col_dim\n",
    "    \n",
    "    # token encoding – are the Words Embeddings plus Positional Encoding\n",
    "    def forward(self, token_encodings):\n",
    "        q = self.W_q(token_encodings)\n",
    "        k = self.W_k(token_encodings)\n",
    "        v = self.W_v(token_encodings)\n",
    "\n",
    "        # Calculation 1: Q*K^T\n",
    "        sims = torch.matmul(q, k.transpose(dim0=self.row_dim, dim1=self.col_dim))\n",
    "        \n",
    "        # Calculation 2: Q*K^T / sqrt(d_model)\n",
    "        scaled_sims = sims / torch.tensor(k.size(self.col_dim)**0.5)\n",
    "\n",
    "         # Calculation 4: softmax(Q*K^T / sqrt(d_model))\n",
    "        attention_percents = F.softmax(scaled_sims, dim=self.col_dim)\n",
    "\n",
    "        # Calculation 3: softmax(Q*K^T / sqrt(d_model)) * V\n",
    "        attention_scores = torch.matmul(attention_percents, v)\n",
    "\n",
    "        return attention_scores"
   ]
  },
  {
   "cell_type": "code",
   "execution_count": 28,
   "id": "e6b75861",
   "metadata": {},
   "outputs": [
    {
     "data": {
      "text/plain": [
       "tensor([[1.0100, 1.0641],\n",
       "        [0.2040, 0.7057],\n",
       "        [3.4989, 2.2427]], grad_fn=<MmBackward0>)"
      ]
     },
     "execution_count": 28,
     "metadata": {},
     "output_type": "execute_result"
    }
   ],
   "source": [
    "encoding_matrix = torch.tensor([\n",
    "    [1.16, 0.23],\n",
    "    [0.57, 1.36],\n",
    "    [4.41, -2.16]\n",
    "])\n",
    "\n",
    "torch.manual_seed(42)\n",
    "\n",
    "selfAttention = SelfAttention(d_model=2, row_dim=0, col_dim=1)\n",
    "\n",
    "# calculation of self-attention scores\n",
    "selfAttention.forward(encoding_matrix)\n",
    "# Output: tensor([\n",
    "#        [1.0100, 1.0641],\n",
    "#        [0.2040, 0.7057],\n",
    "#        [3.4989, 2.2427]], grad_fn=<MmBackward0>)"
   ]
  },
  {
   "cell_type": "code",
   "execution_count": 32,
   "id": "8ae6f095",
   "metadata": {},
   "outputs": [
    {
     "name": "stdout",
     "output_type": "stream",
     "text": [
      "tensor([[ 0.5406, -0.1657],\n",
      "        [ 0.5869,  0.6496]], grad_fn=<TransposeBackward0>)\n",
      "tensor([[-0.1549, -0.3443],\n",
      "        [ 0.1427,  0.4153]], grad_fn=<TransposeBackward0>)\n",
      "tensor([[ 0.6233,  0.6146],\n",
      "        [-0.5188,  0.1323]], grad_fn=<TransposeBackward0>)\n"
     ]
    },
    {
     "data": {
      "text/plain": [
       "tensor([[ 0.7621, -0.0428],\n",
       "        [ 1.1063,  0.7890],\n",
       "        [ 1.1164, -2.1336]], grad_fn=<MmBackward0>)"
      ]
     },
     "execution_count": 32,
     "metadata": {},
     "output_type": "execute_result"
    }
   ],
   "source": [
    "# Note: validating self-attention calculations, but actually not clear from the given code and video\n",
    "print(selfAttention.W_q.weight.transpose(0, 1))\n",
    "print(selfAttention.W_k.weight.transpose(0, 1))\n",
    "print(selfAttention.W_v.weight.transpose(0, 1))\n",
    "\n",
    "selfAttention.W_q(encoding_matrix)"
   ]
  },
  {
   "cell_type": "markdown",
   "id": "e33511fb",
   "metadata": {},
   "source": [
    "## Masked Self Attention"
   ]
  },
  {
   "cell_type": "markdown",
   "id": "87d5fe84",
   "metadata": {},
   "source": [
    "1. {eveything similar to self attention}\n",
    "2. but different calcualation for Masked self attention:\n",
    "      $$\n",
    "      \\text{Attention}(Q, K, V) = \\text{softmax} \\left( \\frac{Q K^\\top}{\\sqrt{d_k}} + M \\right) V\n",
    "      $$\n",
    "\n",
    "      - M is masking matrix, e.g. Look-ahead mask prevents attention to future tokens\n",
    "\n",
    "    "
   ]
  },
  {
   "cell_type": "code",
   "execution_count": null,
   "id": "a4437a91",
   "metadata": {},
   "outputs": [],
   "source": [
    "class MaskedSelfAttention(nn.Module):\n",
    "    # d_model - size of word embeddings per token (i.e. 512)\n",
    "    #           and alos dimension of weight matrixes that used to create Q, K, V matrixes\n",
    "    def __init__(self, d_model=2, row_dim=0, col_dim=1):\n",
    "        super().__init__()\n",
    "\n",
    "        self.W_q = nn.Linear(in_features=d_model, out_features=d_model, bias=False)\n",
    "        self.W_k = nn.Linear(in_features=d_model, out_features=d_model, bias=False)\n",
    "        self.W_v = nn.Linear(in_features=d_model, out_features=d_model, bias=False)\n",
    "\n",
    "        self.row_dim = row_dim\n",
    "        self.col_dim = col_dim\n",
    "\n",
    "    # token encoding – are the Words Embeddings plus Positional Encoding\n",
    "    def forward(self, token_encodings, mask):\n",
    "        q = self.W_q(token_encodings)\n",
    "        k = self.W_k(token_encodings)\n",
    "        v = self.W_v(token_encodings)\n",
    "\n",
    "        # Calculation 1: Q*K^T\n",
    "        sims = torch.matmul(q, k.transpose(dim0=self.row_dim, dim1=self.col_dim))\n",
    "\n",
    "        # Calculation 2: softmax(Q*K^T / sqrt(d_model))\n",
    "        scaled_sims = sims / torch.tensor(k.size(self.col_dim)**0.5)\n",
    "\n",
    "        # Calculation 3: apply mask\n",
    "        scaled_sims = scaled_sims.masked_fill(mask == 0, float('-inf'))\n",
    "\n",
    "        # Calculation 4: softmax(Q*K^T / sqrt(d_model))\n",
    "        attention_percents = F.softmax(scaled_sims, dim=self.col_dim)\n",
    "\n",
    "        # Calculation 5: softmax(Q*K^T / sqrt(d_model)) * V\n",
    "        attention_scores = torch.matmul(attention_percents, v)\n",
    "\n",
    "        return attention_scores"
   ]
  },
  {
   "cell_type": "code",
   "execution_count": 21,
   "id": "230653c8",
   "metadata": {},
   "outputs": [
    {
     "data": {
      "text/plain": [
       "tensor([[1., 0., 0.],\n",
       "        [1., 1., 0.],\n",
       "        [1., 1., 1.]])"
      ]
     },
     "execution_count": 21,
     "metadata": {},
     "output_type": "execute_result"
    }
   ],
   "source": [
    "# generate mask\n",
    "mask = torch.tril(torch.ones(3, 3), diagonal=0)\n",
    "mask"
   ]
  },
  {
   "cell_type": "code",
   "execution_count": null,
   "id": "5041a9ff",
   "metadata": {},
   "outputs": [
    {
     "data": {
      "text/plain": [
       "tensor([[ 0.6038,  0.7434],\n",
       "        [-0.0062,  0.6072],\n",
       "        [ 3.4989,  2.2427]], grad_fn=<MmBackward0>)"
      ]
     },
     "execution_count": 22,
     "metadata": {},
     "output_type": "execute_result"
    }
   ],
   "source": [
    "encoding_matrix = torch.tensor([\n",
    "    [1.16, 0.23],\n",
    "    [0.57, 1.36],\n",
    "    [4.41, -2.16]\n",
    "])\n",
    "\n",
    "torch.manual_seed(42)\n",
    "\n",
    "maskedSelfAttention = MaskedSelfAttention(d_model=2, row_dim=0, col_dim=1)\n",
    "\n",
    "# calculation of self-attention scores with mask\n",
    "maskedSelfAttention.forward(encoding_matrix, mask=mask)\n",
    "# Output: tensor([\n",
    "#       [ 0.6038,  0.7434],\n",
    "#       [-0.0062,  0.6072],\n",
    "#       [ 3.4989,  2.2427]]"
   ]
  },
  {
   "cell_type": "code",
   "execution_count": 33,
   "id": "895a0580",
   "metadata": {},
   "outputs": [
    {
     "name": "stdout",
     "output_type": "stream",
     "text": [
      "tensor([[ 0.5406, -0.1657],\n",
      "        [ 0.5869,  0.6496]], grad_fn=<TransposeBackward0>)\n"
     ]
    },
    {
     "data": {
      "text/plain": [
       "tensor([[ 0.6038,  0.7434],\n",
       "        [-0.3502,  0.5303],\n",
       "        [ 3.8695,  2.4246]], grad_fn=<MmBackward0>)"
      ]
     },
     "execution_count": 33,
     "metadata": {},
     "output_type": "execute_result"
    }
   ],
   "source": [
    "# validating masked self-attention calculations\n",
    "print(maskedSelfAttention.W_q.weight.transpose(0, 1))\n",
    "\n",
    "# shoiuld be the same as masked self-attention scores\n",
    "maskedSelfAttention.W_v(encoding_matrix)"
   ]
  },
  {
   "cell_type": "markdown",
   "id": "2f66174d",
   "metadata": {},
   "source": [
    "# Complete Self Attention"
   ]
  },
  {
   "cell_type": "code",
   "execution_count": 2,
   "id": "351e8f6d",
   "metadata": {},
   "outputs": [],
   "source": [
    "class Attention(nn.Module):\n",
    "    def __init__(self, d_model=2, row_dim=0, col_dim=1):\n",
    "        super().__init__()\n",
    "\n",
    "        self.W_q = nn.Linear(in_features=d_model, out_features=d_model, bias=False)\n",
    "        self.W_k = nn.Linear(in_features=d_model, out_features=d_model, bias=False)\n",
    "        self.W_v = nn.Linear(in_features=d_model, out_features=d_model, bias=False)\n",
    "\n",
    "        self.row_dim = row_dim\n",
    "        self.col_dim = col_dim\n",
    "\n",
    "    def forward(self, encodings_for_q, encodings_for_k, encodings_for_v, mask=None):\n",
    "        q = self.W_q(encodings_for_q)\n",
    "        k = self.W_k(encodings_for_k)\n",
    "        v = self.W_v(encodings_for_v)\n",
    "\n",
    "        # Calculation 1: Q*K^T\n",
    "        sims = torch.matmul(q, k.transpose(dim0=self.row_dim, dim1=self.col_dim))\n",
    "\n",
    "        # Calculation 2: Q*K^T / sqrt(d_model)\n",
    "        scaled_sims = sims / torch.tensor(k.size(self.col_dim)**0.5)\n",
    "\n",
    "        if mask is not None:\n",
    "            # Calculation 3: apply mask\n",
    "            scaled_sims = scaled_sims.masked_fill(mask == 0, float('-inf'))\n",
    "\n",
    "        # Calculation 4: softmax(Q*K^T / sqrt(d_model))\n",
    "        attention_percents = F.softmax(scaled_sims, dim=self.col_dim)\n",
    "\n",
    "        # Calculation 5: softmax(Q*K^T / sqrt(d_model)) * V\n",
    "        attention_scores = torch.matmul(attention_percents, v)\n",
    "\n",
    "        return attention_scores"
   ]
  },
  {
   "cell_type": "code",
   "execution_count": null,
   "id": "fffe847b",
   "metadata": {},
   "outputs": [
    {
     "data": {
      "text/plain": [
       "tensor([[1.0100, 1.0641],\n",
       "        [0.2040, 0.7057],\n",
       "        [3.4989, 2.2427]], grad_fn=<MmBackward0>)"
      ]
     },
     "execution_count": 3,
     "metadata": {},
     "output_type": "execute_result"
    }
   ],
   "source": [
    "encodings_for_q = torch.tensor([\n",
    "    [1.16, 0.23],\n",
    "    [0.57, 1.36],\n",
    "    [4.41, -2.16]\n",
    "])\n",
    "\n",
    "encodings_for_k = torch.tensor([\n",
    "    [1.16, 0.23],\n",
    "    [0.57, 1.36],\n",
    "    [4.41, -2.16]\n",
    "])\n",
    "\n",
    "encodings_for_v = torch.tensor([\n",
    "    [1.16, 0.23],\n",
    "    [0.57, 1.36],\n",
    "    [4.41, -2.16]\n",
    "])\n",
    "\n",
    "torch.manual_seed(42)\n",
    "\n",
    "attention = Attention(d_model=2, row_dim=0, col_dim=1)\n",
    "\n",
    "# calculation of attention scores\n",
    "attention.forward(encodings_for_q, encodings_for_k, encodings_for_v)\n",
    "# Output: tensor([[1.0100, 1.0641],\n",
    "#                 [0.2040, 0.7057],\n",
    "#                 [3.4989, 2.2427]])"
   ]
  },
  {
   "cell_type": "code",
   "execution_count": 5,
   "id": "dff17402",
   "metadata": {},
   "outputs": [],
   "source": [
    "class MultiHeadAttention(nn.Module):\n",
    "    def __init__(self, d_model=2, row_dim=0, col_dim=1, num_heads=1):\n",
    "        super().__init__()\n",
    "\n",
    "        self.heads = nn.ModuleList([\n",
    "            Attention(d_model=d_model, row_dim=row_dim, col_dim=col_dim)\n",
    "            for _ in range(num_heads)\n",
    "        ])\n",
    "         \n",
    "        self.col_dim = col_dim\n",
    "\n",
    "    def forward(self, encodings_for_q, encodings_for_k, encodings_for_v, mask=None):\n",
    "        # Calculation 1: concat all heads\n",
    "        # Calculation 2: W^O * concat\n",
    "        return torch.cat([\n",
    "            head(encodings_for_q, encodings_for_k, encodings_for_v, mask=mask)\n",
    "            for head in self.heads\n",
    "        ], dim=self.col_dim)\n"
   ]
  },
  {
   "cell_type": "code",
   "execution_count": null,
   "id": "b79d45c4",
   "metadata": {},
   "outputs": [
    {
     "data": {
      "text/plain": [
       "tensor([[1.0100, 1.0641],\n",
       "        [0.2040, 0.7057],\n",
       "        [3.4989, 2.2427]], grad_fn=<CatBackward0>)"
      ]
     },
     "execution_count": 6,
     "metadata": {},
     "output_type": "execute_result"
    }
   ],
   "source": [
    "torch.manual_seed(42)\n",
    "\n",
    "multiHeadAttention = MultiHeadAttention(d_model=2, row_dim=0, col_dim=1, num_heads=1)\n",
    "\n",
    "multiHeadAttention.forward(encodings_for_q, encodings_for_k, encodings_for_v)\n",
    "# should be the same as attention scores from the single head attention\n",
    "attention.forward(encodings_for_q, encodings_for_k, encodings_for_v)\n",
    "# Output: tensor([[1.0100, 1.0641],\n",
    "#                 [0.2040, 0.7057],\n",
    "#                 [3.4989, 2.2427]])"
   ]
  },
  {
   "cell_type": "code",
   "execution_count": null,
   "id": "289f7a98",
   "metadata": {},
   "outputs": [
    {
     "data": {
      "text/plain": [
       "tensor([[ 1.0100,  1.0641, -0.7081, -0.8268],\n",
       "        [ 0.2040,  0.7057, -0.7417, -0.9193],\n",
       "        [ 3.4989,  2.2427, -0.7190, -0.8447]], grad_fn=<CatBackward0>)"
      ]
     },
     "execution_count": 7,
     "metadata": {},
     "output_type": "execute_result"
    }
   ],
   "source": [
    "torch.manual_seed(42)\n",
    "multi_head_attention = MultiHeadAttention(d_model=2, row_dim=0, col_dim=1, num_heads=2)\n",
    "# calculation of multi-head attention scores\n",
    "multi_head_attention.forward(encodings_for_q, encodings_for_k, encodings_for_v)\n",
    "# Output: tensor([[ 1.0100,  1.0641, -0.7081, -0.8268],\n",
    "#                 [ 0.2040,  0.7057, -0.7417, -0.9193],\n",
    "#                 [ 3.4989,  2.2427, -0.7190, -0.8447]]"
   ]
  }
 ],
 "metadata": {
  "kernelspec": {
   "display_name": "ml",
   "language": "python",
   "name": "python3"
  },
  "language_info": {
   "codemirror_mode": {
    "name": "ipython",
    "version": 3
   },
   "file_extension": ".py",
   "mimetype": "text/x-python",
   "name": "python",
   "nbconvert_exporter": "python",
   "pygments_lexer": "ipython3",
   "version": "3.13.2"
  }
 },
 "nbformat": 4,
 "nbformat_minor": 5
}
