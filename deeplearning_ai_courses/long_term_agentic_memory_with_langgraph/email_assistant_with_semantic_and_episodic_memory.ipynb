{
 "cells": [
  {
   "cell_type": "markdown",
   "metadata": {},
   "source": [
    "# Lesson 4: Email Assistant with Semantic + Episodic Memory\n",
    "\n",
    "We previously built an email assistant that:\n",
    "- Classifies incoming messages (respond, ignore, notify)\n",
    "- Drafts responses\n",
    "- Schedules meetings\n",
    "- Uses memory to remember details from previous emails\n",
    "\n",
    "Now, we'll add human-in-the-loop following the triage step to better refine the assistant's ability to classify emails."
   ]
  },
  {
   "cell_type": "code",
   "execution_count": 2,
   "metadata": {},
   "outputs": [],
   "source": [
    "from langgraph.store.memory import InMemoryStore\n",
    "from models import get_embeddings_model\n",
    "\n",
    "store = InMemoryStore(\n",
    "    index={\"embed\": get_embeddings_model()}\n",
    ")\n",
    "\n",
    "config = {\"configurable\": {\"langgraph_user_id\": \"lance\"}}\n",
    "langgraph_user_id = config[\"configurable\"][\"langgraph_user_id\"]"
   ]
  },
  {
   "cell_type": "markdown",
   "metadata": {},
   "source": [
    "# Look at a few, few-shot-examples"
   ]
  },
  {
   "cell_type": "markdown",
   "metadata": {},
   "source": [
    "## Store First example"
   ]
  },
  {
   "cell_type": "code",
   "execution_count": 3,
   "metadata": {},
   "outputs": [],
   "source": [
    "email = {\n",
    "    \"author\": \"Alice Smith <alice.smith@company.com>\",\n",
    "    \"to\": \"John Doe <john.doe@company.com>\",\n",
    "    \"subject\": \"Quick question about API documentation\",\n",
    "    \"email_thread\": \"\"\"Hi John,\n",
    "\n",
    "I was reviewing the API documentation for the new authentication service and noticed a few endpoints seem to be missing from the specs. Could you help clarify if this was intentional or if we should update the docs?\n",
    "\n",
    "Specifically, I'm looking at:\n",
    "- /auth/refresh\n",
    "- /auth/validate\n",
    "\n",
    "Thanks!\n",
    "Alice\"\"\",\n",
    "}\n",
    "\n",
    "data = {\n",
    "    \"email\": email,\n",
    "    # This is to start changing the behavior of the agent\n",
    "    \"label\": \"respond\"\n",
    "}"
   ]
  },
  {
   "cell_type": "markdown",
   "metadata": {},
   "source": [
    "### store example into memory store using 'examples' to indicate episodic memory"
   ]
  },
  {
   "cell_type": "code",
   "execution_count": 4,
   "metadata": {},
   "outputs": [],
   "source": [
    "import uuid\n",
    "store.put(\n",
    "    (\"email_assistant\", langgraph_user_id, \"examples\"), \n",
    "    str(uuid.uuid4()), \n",
    "    data\n",
    ")"
   ]
  },
  {
   "cell_type": "markdown",
   "metadata": {},
   "source": [
    "## Store a Second Example"
   ]
  },
  {
   "cell_type": "code",
   "execution_count": 5,
   "metadata": {},
   "outputs": [],
   "source": [
    "data = {\n",
    "    \"email\": {\n",
    "        \"author\": \"Sarah Chen <sarah.chen@company.com>\",\n",
    "        \"to\": \"John Doe <john.doe@company.com>\",\n",
    "        \"subject\": \"Update: Backend API Changes Deployed to Staging\",\n",
    "        \"email_thread\": \"\"\"Hi John,\n",
    "    \n",
    "    Just wanted to let you know that I've deployed the new authentication endpoints we discussed to the staging environment. Key changes include:\n",
    "    \n",
    "    - Implemented JWT refresh token rotation\n",
    "    - Added rate limiting for login attempts\n",
    "    - Updated API documentation with new endpoints\n",
    "    \n",
    "    All tests are passing and the changes are ready for review. You can test it out at staging-api.company.com/auth/*\n",
    "    \n",
    "    No immediate action needed from your side - just keeping you in the loop since this affects the systems you're working on.\n",
    "    \n",
    "    Best regards,\n",
    "    Sarah\n",
    "    \"\"\",\n",
    "    },\n",
    "    \"label\": \"ignore\"\n",
    "}"
   ]
  },
  {
   "cell_type": "code",
   "execution_count": 6,
   "metadata": {},
   "outputs": [],
   "source": [
    "store.put(\n",
    "    (\"email_assistant\", langgraph_user_id, \"examples\"),\n",
    "    str(uuid.uuid4()),\n",
    "    data\n",
    ")"
   ]
  },
  {
   "cell_type": "markdown",
   "metadata": {},
   "source": [
    "## Simulate searching and returning examples"
   ]
  },
  {
   "cell_type": "code",
   "execution_count": 7,
   "metadata": {},
   "outputs": [],
   "source": [
    "email_data = {\n",
    "        \"author\": \"Sarah Chen <sarah.chen@company.com>\",\n",
    "        \"to\": \"John Doe <john.doe@company.com>\",\n",
    "        \"subject\": \"Update: Backend API Changes Deployed to Staging\",\n",
    "        \"email_thread\": \"\"\"Hi John,\n",
    "    \n",
    "    Wanted to let you know that I've deployed the new authentication endpoints we discussed to the staging environment. Key changes include:\n",
    "    \n",
    "    - Implemented JWT refresh token rotation\n",
    "    - Added rate limiting for login attempts\n",
    "    - Updated API documentation with new endpoints\n",
    "    \n",
    "    All tests are passing and the changes are ready for review. You can test it out at staging-api.company.com/auth/*\n",
    "    \n",
    "    No immediate action needed from your side - just keeping you in the loop since this affects the systems you're working on.\n",
    "    \n",
    "    Best regards,\n",
    "    Sarah\n",
    "    \"\"\",\n",
    "    }\n",
    "results = store.search(\n",
    "    (\"email_assistant\", \"lance\", \"examples\"),\n",
    "    query=str({\"email\": email_data}),\n",
    "    limit=1)"
   ]
  },
  {
   "cell_type": "code",
   "execution_count": 8,
   "metadata": {},
   "outputs": [
    {
     "name": "stdout",
     "output_type": "stream",
     "text": [
      "Here are some previous examples:\n",
      "\n",
      "------------\n",
      "\n",
      "Email Subject: Update: Backend API Changes Deployed to Staging\n",
      "        Email From: Sarah Chen <sarah.chen@company.com>\n",
      "        Email To: John Doe <john.doe@company.com>\n",
      "        Email Content: \n",
      "        ```\n",
      "        Hi John,\n",
      "    \n",
      "    Just wanted to let you know that I've deployed the new authentication endpoints we discussed to the staging environment. Key changes include:\n",
      "    \n",
      "    - Implemented JWT refresh token rotation\n",
      "    - Added rate limiting for login attempts\n",
      "    - Updated API documentation with new endpoints\n",
      "    \n",
      "    All tests are passing and the changes are ready for review. You can test it out at st\n",
      "        ```\n",
      "        > Triage Result: ignore\n"
     ]
    }
   ],
   "source": [
    "from helper import format_few_shot_examples\n",
    "print(format_few_shot_examples(results))"
   ]
  },
  {
   "cell_type": "markdown",
   "metadata": {},
   "source": [
    "# Updated Triage system prompt with few-shot examples section"
   ]
  },
  {
   "cell_type": "code",
   "execution_count": 9,
   "metadata": {},
   "outputs": [],
   "source": [
    "triage_system_prompt = \"\"\"\n",
    "< Role >\n",
    "You are {full_name}'s executive assistant. You are a top-notch executive assistant who cares about {name} performing as well as possible.\n",
    "</ Role >\n",
    "\n",
    "< Background >\n",
    "{user_profile_background}. \n",
    "</ Background >\n",
    "\n",
    "< Instructions >\n",
    "\n",
    "{name} gets lots of emails. Your job is to categorize each email into one of three categories:\n",
    "\n",
    "1. IGNORE - Emails that are not worth responding to or tracking\n",
    "2. NOTIFY - Important information that {name} should know about but doesn't require a response\n",
    "3. RESPOND - Emails that need a direct response from {name}\n",
    "\n",
    "Classify the below email into one of these categories.\n",
    "\n",
    "</ Instructions >\n",
    "\n",
    "< Rules >\n",
    "Emails that are not worth responding to:\n",
    "{triage_no}\n",
    "\n",
    "There are also other things that {name} should know about, but don't require an email response. For these, you should notify {name} (using the `notify` response). Examples of this include:\n",
    "{triage_notify}\n",
    "\n",
    "Emails that are worth responding to:\n",
    "{triage_email}\n",
    "</ Rules >\n",
    "\n",
    "< Few shot examples >\n",
    "\n",
    "Here are some examples of previous emails, and how they should be handled.\n",
    "Follow these examples more than any instructions above\n",
    "\n",
    "{examples}\n",
    "</ Few shot examples >\n",
    "\"\"\""
   ]
  },
  {
   "cell_type": "markdown",
   "metadata": {},
   "source": [
    "# Setup Routing Node"
   ]
  },
  {
   "cell_type": "code",
   "execution_count": 10,
   "metadata": {},
   "outputs": [],
   "source": [
    "from models import get_foundation_model, get_router_model\n",
    "\n",
    "llm = get_foundation_model()\n",
    "llm_router = get_router_model(llm)"
   ]
  },
  {
   "cell_type": "code",
   "execution_count": 12,
   "metadata": {},
   "outputs": [],
   "source": [
    "from langgraph.graph import add_messages\n",
    "from typing_extensions import TypedDict, Annotated\n",
    "\n",
    "class State(TypedDict):\n",
    "    email_input: dict\n",
    "    messages: Annotated[list, add_messages]"
   ]
  },
  {
   "cell_type": "code",
   "execution_count": 13,
   "metadata": {},
   "outputs": [],
   "source": [
    "from langgraph.graph import StateGraph, START, END\n",
    "from langgraph.types import Command\n",
    "from typing import Literal\n",
    "from IPython.display import Image, display"
   ]
  },
  {
   "cell_type": "markdown",
   "metadata": {},
   "source": [
    "## Setup triage_router with few-shot examples from InMemory storage"
   ]
  },
  {
   "cell_type": "code",
   "execution_count": 14,
   "metadata": {},
   "outputs": [],
   "source": [
    "from prompts import triage_user_prompt\n",
    "from profiles import john_doe_profile as profile\n",
    "from instructions import prompt_instructions\n",
    "\n",
    "def triage_router(state: State, config, store) -> Command[\n",
    "    Literal[\"response_agent\", \"__end__\"]\n",
    "]:\n",
    "    author = state['email_input']['author']\n",
    "    to = state['email_input']['to']\n",
    "    subject = state['email_input']['subject']\n",
    "    email_thread = state['email_input']['email_thread']\n",
    "\n",
    "    namespace = (\n",
    "        \"email_assistant\",\n",
    "        config['configurable']['langgraph_user_id'],\n",
    "        \"examples\"\n",
    "    )\n",
    "    examples = store.search(\n",
    "        namespace, \n",
    "        query=str({\"email\": state['email_input']})\n",
    "    ) \n",
    "    examples=format_few_shot_examples(examples)\n",
    "    \n",
    "    system_prompt = triage_system_prompt.format(\n",
    "        full_name=profile[\"full_name\"],\n",
    "        name=profile[\"name\"],\n",
    "        user_profile_background=profile[\"user_profile_background\"],\n",
    "        triage_no=prompt_instructions[\"triage_rules\"][\"ignore\"],\n",
    "        triage_notify=prompt_instructions[\"triage_rules\"][\"notify\"],\n",
    "        triage_email=prompt_instructions[\"triage_rules\"][\"respond\"],\n",
    "        examples=examples\n",
    "    )\n",
    "    user_prompt = triage_user_prompt.format(\n",
    "        author=author, \n",
    "        to=to, \n",
    "        subject=subject, \n",
    "        email_thread=email_thread\n",
    "    )\n",
    "    result = llm_router.invoke(\n",
    "        [\n",
    "            {\"role\": \"system\", \"content\": system_prompt},\n",
    "            {\"role\": \"user\", \"content\": user_prompt},\n",
    "        ]\n",
    "    )\n",
    "    if result.classification == \"respond\":\n",
    "        print(\"📧 Classification: RESPOND - This email requires a response\")\n",
    "        goto = \"response_agent\"\n",
    "        update = {\n",
    "            \"messages\": [\n",
    "                {\n",
    "                    \"role\": \"user\",\n",
    "                    \"content\": f\"Respond to the email {state['email_input']}\",\n",
    "                }\n",
    "            ]\n",
    "        }\n",
    "    elif result.classification == \"ignore\":\n",
    "        print(\"🚫 Classification: IGNORE - This email can be safely ignored\")\n",
    "        update = None\n",
    "        goto = END\n",
    "    elif result.classification == \"notify\":\n",
    "        # If real life, this would do something else\n",
    "        print(\"🔔 Classification: NOTIFY - This email contains important information\")\n",
    "        update = None\n",
    "        goto = END\n",
    "    else:\n",
    "        raise ValueError(f\"Invalid classification: {result.classification}\")\n",
    "    return Command(goto=goto, update=update)"
   ]
  },
  {
   "cell_type": "markdown",
   "metadata": {},
   "source": [
    "# Setup the rest of the agent"
   ]
  },
  {
   "cell_type": "code",
   "execution_count": 15,
   "metadata": {},
   "outputs": [],
   "source": [
    "from langmem import create_manage_memory_tool, create_search_memory_tool\n",
    "\n",
    "manage_memory_tool = create_manage_memory_tool(\n",
    "    namespace=(\n",
    "        \"email_assistant\", \n",
    "        \"{langgraph_user_id}\",\n",
    "        \"collection\"\n",
    "    )\n",
    ")\n",
    "search_memory_tool = create_search_memory_tool(\n",
    "    namespace=(\n",
    "        \"email_assistant\",\n",
    "        \"{langgraph_user_id}\",\n",
    "        \"collection\"\n",
    "    )\n",
    ")"
   ]
  },
  {
   "cell_type": "code",
   "execution_count": 16,
   "metadata": {},
   "outputs": [],
   "source": [
    "agent_system_prompt_memory = \"\"\"\n",
    "< Role >\n",
    "You are {full_name}'s executive assistant. You are a top-notch executive assistant who cares about {name} performing as well as possible.\n",
    "</ Role >\n",
    "\n",
    "< Tools >\n",
    "You have access to the following tools to help manage {name}'s communications and schedule:\n",
    "\n",
    "1. write_email(to, subject, content) - Send emails to specified recipients\n",
    "2. schedule_meeting(attendees, subject, duration_minutes, preferred_day) - Schedule calendar meetings\n",
    "3. check_calendar_availability(day) - Check available time slots for a given day\n",
    "4. manage_memory - Store any relevant information about contacts, actions, discussion, etc. in memory for future reference\n",
    "5. search_memory - Search for any relevant information that may have been stored in memory\n",
    "</ Tools >\n",
    "\n",
    "< Instructions >\n",
    "{instructions}\n",
    "</ Instructions >\n",
    "\"\"\""
   ]
  },
  {
   "cell_type": "code",
   "execution_count": 17,
   "metadata": {},
   "outputs": [],
   "source": [
    "from langgraph.prebuilt import create_react_agent\n",
    "from tools import write_email, schedule_meeting, check_calendar_availability\n",
    "from helper import get_create_prompt_func\n",
    "\n",
    "tools= [\n",
    "    write_email, \n",
    "    schedule_meeting,\n",
    "    check_calendar_availability,\n",
    "    manage_memory_tool,\n",
    "    search_memory_tool\n",
    "]\n",
    "response_agent = create_react_agent(\n",
    "    # Gemini foundation model\n",
    "    llm,\n",
    "    tools=tools,\n",
    "    prompt=get_create_prompt_func(profile, agent_system_prompt_memory, prompt_instructions),\n",
    "    # Use this to ensure the store is passed to the agent \n",
    "    store=store\n",
    ")"
   ]
  },
  {
   "cell_type": "markdown",
   "metadata": {},
   "source": [
    "# Build the email agent graph"
   ]
  },
  {
   "cell_type": "code",
   "execution_count": 18,
   "metadata": {},
   "outputs": [],
   "source": [
    "email_agent = StateGraph(State)\n",
    "email_agent = email_agent.add_node(triage_router)\n",
    "email_agent = email_agent.add_node(\"response_agent\", response_agent)\n",
    "email_agent = email_agent.add_edge(START, \"triage_router\")\n",
    "email_agent = email_agent.compile(store=store)"
   ]
  },
  {
   "cell_type": "markdown",
   "metadata": {},
   "source": [
    "# Try out the agent on an example email"
   ]
  },
  {
   "cell_type": "code",
   "execution_count": null,
   "metadata": {},
   "outputs": [
    {
     "name": "stdout",
     "output_type": "stream",
     "text": [
      "🚫 Classification: IGNORE - This email can be safely ignored\n"
     ]
    }
   ],
   "source": [
    "email_input = {\n",
    "    \"author\": \"Tom Jones <tome.jones@bar.com>\",\n",
    "    \"to\": \"John Doe <john.doe@company.com>\",\n",
    "    \"subject\": \"Quick question about API documentation\",\n",
    "    \"email_thread\": \"\"\"Hi John - want to buy documentation?\"\"\",\n",
    "}\n",
    "\n",
    "response = email_agent.invoke(\n",
    "    {\"email_input\": email_input}, \n",
    "    config={\"configurable\": {\"langgraph_user_id\": \"harrison\"}}\n",
    ")"
   ]
  },
  {
   "cell_type": "markdown",
   "metadata": {},
   "source": [
    "# Update store to reply to emails like this"
   ]
  },
  {
   "cell_type": "code",
   "execution_count": 22,
   "metadata": {},
   "outputs": [],
   "source": [
    "data = {\n",
    "    \"email\": {\n",
    "    \"author\": \"Tom Jones <tome.jones@bar.com>\",\n",
    "    \"to\": \"John Doe <john.doe@company.com>\",\n",
    "    \"subject\": \"Quick question about API documentation\",\n",
    "    \"email_thread\": \"\"\"Hi John - want to buy documentation?\"\"\",\n",
    "},\n",
    "    \"label\": \"respond\"\n",
    "}\n",
    "\n",
    "store.put(\n",
    "    (\"email_assistant\", \"harrison\", \"examples\"),\n",
    "    str(uuid.uuid4()),\n",
    "    data\n",
    ")"
   ]
  },
  {
   "cell_type": "markdown",
   "metadata": {},
   "source": [
    "## Try it again, it should respond this time"
   ]
  },
  {
   "cell_type": "code",
   "execution_count": 23,
   "metadata": {},
   "outputs": [
    {
     "name": "stdout",
     "output_type": "stream",
     "text": [
      "📧 Classification: RESPOND - This email requires a response\n"
     ]
    }
   ],
   "source": [
    "email_input = {\n",
    "    \"author\": \"Tom Jones <tome.jones@bar.com>\",\n",
    "    \"to\": \"John Doe <john.doe@company.com>\",\n",
    "    \"subject\": \"Quick question about API documentation\",\n",
    "    \"email_thread\": \"\"\"Hi John - want to buy documentation?\"\"\",\n",
    "}\n",
    "\n",
    "response = email_agent.invoke(\n",
    "    {\"email_input\": email_input}, \n",
    "    config={\"configurable\": {\"langgraph_user_id\": \"harrison\"}}\n",
    ")"
   ]
  },
  {
   "cell_type": "markdown",
   "metadata": {},
   "source": [
    "## Slightly modify text, will continue to respond"
   ]
  },
  {
   "cell_type": "code",
   "execution_count": 24,
   "metadata": {},
   "outputs": [
    {
     "name": "stdout",
     "output_type": "stream",
     "text": [
      "📧 Classification: RESPOND - This email requires a response\n"
     ]
    }
   ],
   "source": [
    "email_input = {\n",
    "    \"author\": \"Jim Jones <jim.jones@bar.com>\",\n",
    "    \"to\": \"John Doe <john.doe@company.com>\",\n",
    "    \"subject\": \"Quick question about API documentation\",\n",
    "    \"email_thread\": \"\"\"Hi John - want to buy documentation?????\"\"\",\n",
    "}\n",
    "\n",
    "response = email_agent.invoke(\n",
    "    {\"email_input\": email_input}, \n",
    "    config={\"configurable\": {\"langgraph_user_id\": \"harrison\"}}\n",
    ")"
   ]
  },
  {
   "cell_type": "markdown",
   "metadata": {},
   "source": [
    "# Try with a different user id"
   ]
  },
  {
   "cell_type": "code",
   "execution_count": 25,
   "metadata": {},
   "outputs": [
    {
     "name": "stdout",
     "output_type": "stream",
     "text": [
      "🚫 Classification: IGNORE - This email can be safely ignored\n"
     ]
    }
   ],
   "source": [
    "response = email_agent.invoke(\n",
    "    {\"email_input\": email_input}, \n",
    "    config={\"configurable\": {\"langgraph_user_id\": \"andrew\"}}\n",
    ")"
   ]
  }
 ],
 "metadata": {
  "kernelspec": {
   "display_name": "ml",
   "language": "python",
   "name": "python3"
  },
  "language_info": {
   "codemirror_mode": {
    "name": "ipython",
    "version": 3
   },
   "file_extension": ".py",
   "mimetype": "text/x-python",
   "name": "python",
   "nbconvert_exporter": "python",
   "pygments_lexer": "ipython3",
   "version": "3.13.2"
  }
 },
 "nbformat": 4,
 "nbformat_minor": 2
}
