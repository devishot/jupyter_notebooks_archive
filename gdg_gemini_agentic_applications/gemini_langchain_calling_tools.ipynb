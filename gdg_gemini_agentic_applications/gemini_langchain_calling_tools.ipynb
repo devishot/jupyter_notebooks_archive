{
 "cells": [
  {
   "cell_type": "markdown",
   "metadata": {},
   "source": [
    "[GDG Ahlen / Incremental design of LLM-powered agentic applications](https://www.youtube.com/watch?v=uIQlMSX5gx4)\n",
    "\n",
    "Resources:\n",
    "- [Google AI Studio](https://python.langchain.com/docs/integrations/chat/google_generative_ai/)\n",
    "    - need to get `GOOGLE_API_KEY`\n",
    "- [Finage API](https://finage.co.uk/docs/api/us-stocks#stock-market-previous-close)\n",
    "    - need to get `FINAGE_API_KEY`\n",
    "- [LangChain: Custom tools](https://python.langchain.com/v0.1/docs/modules/tools/custom_tools/)\n"
   ]
  },
  {
   "cell_type": "markdown",
   "metadata": {},
   "source": [
    "# Module 2: Call tools with Gemini using LangChain"
   ]
  },
  {
   "cell_type": "markdown",
   "metadata": {},
   "source": [
    "## Setup Gemini in LangChain\n",
    "\n",
    "Important to set Experimental model of Gemini in `ChatGoogleGenerativeAI.model` "
   ]
  },
  {
   "cell_type": "code",
   "execution_count": 6,
   "metadata": {},
   "outputs": [],
   "source": [
    "# Import env variables from `.env` file\n",
    "from dotenv import load_dotenv\n",
    "load_dotenv()\n",
    "\n",
    "# Check for Google GEMINI API KEY\n",
    "import os\n",
    "assert \"GOOGLE_API_KEY\" in os.environ\n",
    "\n",
    "from langchain_core.output_parsers import StrOutputParser\n",
    "from langchain_core.messages import HumanMessage\n",
    "from langchain_google_genai import ChatGoogleGenerativeAI\n",
    "from langchain_core.tools import tool\n",
    "\n",
    "llm = ChatGoogleGenerativeAI(\n",
    "    max_tokens=None,\n",
    "    model=\"gemini-2.0-flash-exp\",\n",
    "    temperature=1,\n",
    "    top_k=1,\n",
    "    top_p=0.9\n",
    ")\n"
   ]
  },
  {
   "cell_type": "markdown",
   "metadata": {},
   "source": [
    "## Setup tools"
   ]
  },
  {
   "cell_type": "code",
   "execution_count": 7,
   "metadata": {},
   "outputs": [],
   "source": [
    "import requests\n",
    "from typing import Dict\n",
    "\n",
    "@tool\n",
    "def get_stock_data(symbol: str) -> Dict:\n",
    "    \"\"\"\n",
    "    Get previous day's closing price for a stock symbol using Finage API\n",
    "    \n",
    "    Args:\n",
    "        symbol (str): Stock symbol (e.g. 'AAPL' for Apple)\n",
    "        \n",
    "    Returns:\n",
    "        Dict: Response data containing previous close price and other details\n",
    "    \"\"\"\n",
    "    api_key = os.getenv(\"FINAGE_API_KEY\")\n",
    "    if not api_key:\n",
    "        raise ValueError(\"FINAGE_API_KEY not found in environment variables\")\n",
    "        \n",
    "    url = f\"https://api.finage.co.uk/agg/stock/prev-close/{symbol}\"\n",
    "    \n",
    "    params = {\n",
    "        \"apikey\": api_key\n",
    "    }\n",
    "    \n",
    "    try:\n",
    "        response = requests.get(url, params=params)\n",
    "        response.raise_for_status()  # Raise exception for bad status codes\n",
    "        return response.json()\n",
    "    except requests.exceptions.RequestException as e:\n",
    "        raise Exception(f\"Error fetching stock data: {str(e)}\")\n",
    "\n",
    "\n"
   ]
  },
  {
   "cell_type": "markdown",
   "metadata": {},
   "source": [
    "## Prompting model with tools → just returns tool calls\n"
   ]
  },
  {
   "cell_type": "code",
   "execution_count": 8,
   "metadata": {},
   "outputs": [
    {
     "data": {
      "text/plain": [
       "AIMessage(content='', additional_kwargs={'function_call': {'name': 'get_stock_data', 'arguments': '{\"symbol\": \"AAPL\"}'}}, response_metadata={'prompt_feedback': {'block_reason': 0, 'safety_ratings': []}, 'finish_reason': 'STOP', 'safety_ratings': []}, id='run-846524dc-bbcd-4076-ae7a-dbb118e17755-0', tool_calls=[{'name': 'get_stock_data', 'args': {'symbol': 'AAPL'}, 'id': '49388d75-a8ee-4d9a-a5dd-626236213ef1', 'type': 'tool_call'}], usage_metadata={'input_tokens': 71, 'output_tokens': 8, 'total_tokens': 79, 'input_token_details': {'cache_read': 0}})"
      ]
     },
     "execution_count": 8,
     "metadata": {},
     "output_type": "execute_result"
    }
   ],
   "source": [
    "tools = [\n",
    "    get_stock_data,\n",
    "    # other tools\n",
    "]\n",
    "\n",
    "llm_with_tools = llm.bind_tools(tools)\n",
    "\n",
    "llm_with_tools.invoke(\"What is the previous close price for AAPL?\")"
   ]
  },
  {
   "cell_type": "markdown",
   "metadata": {},
   "source": [
    "## Full interaction with tool\n",
    "\n",
    "1. getting the user input\n",
    "2. getting tool call response from model\n",
    "3. invoking the tool\n",
    "4. passing the tool result back to the model for final answer to the user"
   ]
  },
  {
   "cell_type": "code",
   "execution_count": 10,
   "metadata": {},
   "outputs": [
    {
     "name": "stdout",
     "output_type": "stream",
     "text": [
      "content='{\"symbol\": \"AAPL\", \"totalResults\": 1, \"results\": [{\"o\": 236.95, \"h\": 242.09, \"l\": 230.2, \"c\": 241.84, \"v\": 56806879, \"t\": 1740718800000}]}' name='get_stock_data' tool_call_id='dbfe83ad-da42-42e4-ba9b-bd844afc71d9'\n",
      "content='The closing price for Apple (AAPL) was 241.84.' additional_kwargs={} response_metadata={'prompt_feedback': {'block_reason': 0, 'safety_ratings': []}, 'finish_reason': 'STOP', 'safety_ratings': []} id='run-83d8e829-fcbc-4b8a-8ef6-81d30ea07b2d-0' usage_metadata={'input_tokens': 93, 'output_tokens': 19, 'total_tokens': 112, 'input_token_details': {'cache_read': 0}}\n"
     ]
    }
   ],
   "source": [
    "# Initiate first message from user\n",
    "messages = [\n",
    "    HumanMessage(content=\"What is the price for Apple?\")\n",
    "]\n",
    "\n",
    "# Invoke model with first message\n",
    "llm_response1 = llm_with_tools.invoke(messages)\n",
    "messages.append(llm_response1)\n",
    "\n",
    "# Invoke tool returned in response to the prompt\n",
    "for tool_call in llm_response1.tool_calls:\n",
    "    selected_tool = {\n",
    "        \"get_stock_data\": get_stock_data,\n",
    "        # other tools\n",
    "    }[tool_call[\"name\"].lower()]\n",
    "    tool_response = selected_tool.invoke(tool_call)\n",
    "    # Add tool response to messages\n",
    "    messages.append(tool_response)\n",
    "\n",
    "    print(tool_response)\n",
    "\n",
    "\n",
    "# Invoke model with updated messages\n",
    "llm_response2 = llm_with_tools.invoke(messages)\n",
    "\n",
    "# Print final response\n",
    "print(llm_response2)"
   ]
  }
 ],
 "metadata": {
  "kernelspec": {
   "display_name": "ml",
   "language": "python",
   "name": "python3"
  },
  "language_info": {
   "codemirror_mode": {
    "name": "ipython",
    "version": 3
   },
   "file_extension": ".py",
   "mimetype": "text/x-python",
   "name": "python",
   "nbconvert_exporter": "python",
   "pygments_lexer": "ipython3",
   "version": "3.13.2"
  }
 },
 "nbformat": 4,
 "nbformat_minor": 2
}
