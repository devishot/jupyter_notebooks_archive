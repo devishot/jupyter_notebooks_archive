{
 "cells": [
  {
   "cell_type": "code",
   "execution_count": 19,
   "id": "05d60253-184f-4c7e-ad04-6a6ddbdf6216",
   "metadata": {},
   "outputs": [],
   "source": [
    "import os\n",
    "import uuid\n",
    "import pandas as pd\n",
    "import mlflow"
   ]
  },
  {
   "cell_type": "code",
   "execution_count": 20,
   "id": "d8d628fe",
   "metadata": {},
   "outputs": [
    {
     "name": "stdout",
     "output_type": "stream",
     "text": [
      "Input file: https://d37ci6vzurychx.cloudfront.net/trip-data/green_tripdata_2023-01.parquet\n",
      "Output file: output/green/prediction_2023-01.parquet\n"
     ]
    }
   ],
   "source": [
    "year = 2023\n",
    "month = 1\n",
    "taxi_type = 'green'\n",
    "\n",
    "input_file = f'https://d37ci6vzurychx.cloudfront.net/trip-data/{taxi_type}_tripdata_{year:04d}-{month:02d}.parquet'\n",
    "output_file = f'output/{taxi_type}/prediction_{year:04d}-{month:02d}.parquet'\n",
    "\n",
    "print(f'Input file: {input_file}')\n",
    "print(f'Output file: {output_file}')"
   ]
  },
  {
   "cell_type": "code",
   "execution_count": 21,
   "id": "5b0a9d3c",
   "metadata": {},
   "outputs": [],
   "source": [
    "# temporary solution to see environment variables when running Jupyter Notebook from IDE\n",
    "os.environ[\"MLFLOW_EXPERIMENT_NAME\"] = \"module_4_nyc_taxi_duration_prediction_with_sklearn_pipeline_experiment\"\n",
    "os.environ[\"RUN_ID\"] = \"8d6b2c8289b94d1cb40a313e0bf92aca\"\n",
    "\n",
    "os.environ[\"MLFLOW_TRACKING_URI\"] = \"http://localhost:5000\"\n",
    "\n",
    "os.environ[\"MLFLOW_S3_ENDPOINT_URL\"] = \"http://localhost:9000\"\n",
    "os.environ[\"AWS_ACCESS_KEY_ID\"] = \"minio_user\"\n",
    "os.environ[\"AWS_SECRET_ACCESS_KEY\"] = \"minio_password\""
   ]
  },
  {
   "cell_type": "code",
   "execution_count": 22,
   "id": "e0b69131-b4ab-473a-8089-9cd17da7469f",
   "metadata": {},
   "outputs": [
    {
     "name": "stdout",
     "output_type": "stream",
     "text": [
      "Environment variables for MLFlow:  http://localhost:5000\n",
      "Environment variables for S3:  http://localhost:9000 minio_user minio_password\n",
      "Environment variables for model:  module_4_nyc_taxi_duration_prediction_with_sklearn_pipeline_experiment 8d6b2c8289b94d1cb40a313e0bf92aca\n"
     ]
    }
   ],
   "source": [
    "MLFLOW_TRACKING_URI = os.environ.get(\"MLFLOW_TRACKING_URI\")\n",
    "print(\"Environment variables for MLFlow: \", MLFLOW_TRACKING_URI)\n",
    "\n",
    "AWS_ACCESS_KEY_ID = os.environ.get(\"AWS_ACCESS_KEY_ID\")\n",
    "AWS_SECRET_ACCESS_KEY = os.environ.get(\"AWS_SECRET_ACCESS_KEY\")\n",
    "MLFLOW_S3_ENDPOINT_URL = os.environ.get(\"MLFLOW_S3_ENDPOINT_URL\")\n",
    "print(\"Environment variables for S3: \", MLFLOW_S3_ENDPOINT_URL, AWS_ACCESS_KEY_ID, AWS_SECRET_ACCESS_KEY)\n",
    "\n",
    "MLFLOW_EXPERIMENT_NAME = os.environ.get(\"MLFLOW_EXPERIMENT_NAME\")\n",
    "RUN_ID = os.environ.get(\"RUN_ID\")\n",
    "print(\"Environment variables for model: \", MLFLOW_EXPERIMENT_NAME, RUN_ID)"
   ]
  },
  {
   "cell_type": "code",
   "execution_count": 23,
   "id": "e175c272",
   "metadata": {},
   "outputs": [
    {
     "data": {
      "text/plain": [
       "<Experiment: artifact_location='mlflow-artifacts:/1', creation_time=1750103452800, experiment_id='1', last_update_time=1750103452800, lifecycle_stage='active', name='module_4_nyc_taxi_duration_prediction_with_sklearn_pipeline_experiment', tags={}>"
      ]
     },
     "execution_count": 23,
     "metadata": {},
     "output_type": "execute_result"
    }
   ],
   "source": [
    "mlflow.set_tracking_uri(MLFLOW_TRACKING_URI)\n",
    "mlflow.set_experiment(MLFLOW_EXPERIMENT_NAME)"
   ]
  },
  {
   "cell_type": "code",
   "execution_count": 24,
   "id": "2fa27ebd",
   "metadata": {},
   "outputs": [],
   "source": [
    "def generate_ride_ids(n):\n",
    "    ride_ids = []\n",
    "    for i in range(n):\n",
    "        ride_ids.append(str(uuid.uuid4()))\n",
    "    return ride_ids"
   ]
  },
  {
   "cell_type": "code",
   "execution_count": 26,
   "id": "b3cbf3a3-96be-40b2-807e-6450b33f0f10",
   "metadata": {},
   "outputs": [],
   "source": [
    "def read_dataframe(filename):\n",
    "    df = pd.read_parquet(filename)\n",
    "\n",
    "    df['duration'] = df.lpep_dropoff_datetime - df.lpep_pickup_datetime\n",
    "    df.duration = df.duration.apply(lambda td: td.total_seconds() / 60)\n",
    "\n",
    "    df = df[(df.duration >= 1) & (df.duration <= 60)]\n",
    "\n",
    "    categorical = ['PULocationID', 'DOLocationID']\n",
    "    df[categorical] = df[categorical].astype(str)\n",
    "\n",
    "    df['ride_id'] = generate_ride_ids(len(df))\n",
    "\n",
    "    return df"
   ]
  },
  {
   "cell_type": "code",
   "execution_count": 27,
   "id": "7006ad62",
   "metadata": {},
   "outputs": [],
   "source": [
    "def prepare_dictionaries(df: pd.DataFrame):\n",
    "    df['PU_DO'] = df['PULocationID'] + '_' + df['DOLocationID']\n",
    "    categorical = ['PU_DO']\n",
    "    numerical = ['trip_distance']\n",
    "    dicts = df[categorical + numerical].to_dict(orient='records')\n",
    "    return dicts"
   ]
  },
  {
   "cell_type": "code",
   "execution_count": 28,
   "id": "ec753741",
   "metadata": {},
   "outputs": [],
   "source": [
    "def load_model(run_id):\n",
    "    model_uri = f's3://bucket/1/{run_id}/artifacts/model'\n",
    "    print(f'Loading model using uri: {model_uri}')\n",
    "    model = mlflow.pyfunc.load_model(model_uri)\n",
    "    return model"
   ]
  },
  {
   "cell_type": "code",
   "execution_count": 29,
   "id": "b5c1f074",
   "metadata": {},
   "outputs": [],
   "source": [
    "def prepare_results(df, y_pred):\n",
    "    df_result = pd.DataFrame()\n",
    "    df_result['ride_id'] = df['ride_id']\n",
    "    df_result['lpep_pickup_datetime'] = df['lpep_pickup_datetime']\n",
    "    df_result['lpep_dropoff_datetime'] = df['lpep_dropoff_datetime']\n",
    "    df_result['PULocationID'] = df['PULocationID']\n",
    "    df_result['DOLocationID'] = df['DOLocationID']\n",
    "    df_result['trip_distance'] = df['trip_distance']\n",
    "    df_result['actual_duration'] = df['duration']\n",
    "    df_result['predicted_duration'] = y_pred\n",
    "    df_result['diff'] = df_result['actual_duration'] - df_result['predicted_duration']\n",
    "    return df"
   ]
  },
  {
   "cell_type": "code",
   "execution_count": 30,
   "id": "32ed2bfe",
   "metadata": {},
   "outputs": [],
   "source": [
    "def apply_model(input_file, run_id, output_file):\n",
    "    df = read_dataframe(input_file)\n",
    "    dicts = prepare_dictionaries(df)\n",
    "    model = load_model(run_id)\n",
    "    y_pred = model.predict(dicts)\n",
    "\n",
    "    df_result = prepare_results(df, y_pred)\n",
    "    df_result.to_parquet(output_file, engine='pyarrow', index=False)"
   ]
  },
  {
   "cell_type": "code",
   "execution_count": 32,
   "id": "fbad12c2",
   "metadata": {},
   "outputs": [
    {
     "name": "stdout",
     "output_type": "stream",
     "text": [
      "Loading model using uri: s3://bucket/1/8d6b2c8289b94d1cb40a313e0bf92aca/artifacts/model\n"
     ]
    },
    {
     "data": {
      "application/vnd.jupyter.widget-view+json": {
       "model_id": "9afe0d30d995425b8038831c367d357e",
       "version_major": 2,
       "version_minor": 0
      },
      "text/plain": [
       "Downloading artifacts:   0%|          | 0/5 [00:00<?, ?it/s]"
      ]
     },
     "metadata": {},
     "output_type": "display_data"
    }
   ],
   "source": [
    "apply_model(input_file=input_file, run_id=RUN_ID, output_file=output_file)"
   ]
  },
  {
   "cell_type": "code",
   "execution_count": null,
   "id": "c9f41408",
   "metadata": {},
   "outputs": [],
   "source": [
    "! ls output/green/"
   ]
  },
  {
   "cell_type": "code",
   "execution_count": 33,
   "id": "a6682a7d",
   "metadata": {},
   "outputs": [
    {
     "data": {
      "application/vnd.microsoft.datawrangler.viewer.v0+json": {
       "columns": [
        {
         "name": "index",
         "rawType": "int64",
         "type": "integer"
        },
        {
         "name": "VendorID",
         "rawType": "int64",
         "type": "integer"
        },
        {
         "name": "lpep_pickup_datetime",
         "rawType": "datetime64[us]",
         "type": "unknown"
        },
        {
         "name": "lpep_dropoff_datetime",
         "rawType": "datetime64[us]",
         "type": "unknown"
        },
        {
         "name": "store_and_fwd_flag",
         "rawType": "object",
         "type": "string"
        },
        {
         "name": "RatecodeID",
         "rawType": "float64",
         "type": "float"
        },
        {
         "name": "PULocationID",
         "rawType": "object",
         "type": "string"
        },
        {
         "name": "DOLocationID",
         "rawType": "object",
         "type": "string"
        },
        {
         "name": "passenger_count",
         "rawType": "float64",
         "type": "float"
        },
        {
         "name": "trip_distance",
         "rawType": "float64",
         "type": "float"
        },
        {
         "name": "fare_amount",
         "rawType": "float64",
         "type": "float"
        },
        {
         "name": "extra",
         "rawType": "float64",
         "type": "float"
        },
        {
         "name": "mta_tax",
         "rawType": "float64",
         "type": "float"
        },
        {
         "name": "tip_amount",
         "rawType": "float64",
         "type": "float"
        },
        {
         "name": "tolls_amount",
         "rawType": "float64",
         "type": "float"
        },
        {
         "name": "ehail_fee",
         "rawType": "object",
         "type": "unknown"
        },
        {
         "name": "improvement_surcharge",
         "rawType": "float64",
         "type": "float"
        },
        {
         "name": "total_amount",
         "rawType": "float64",
         "type": "float"
        },
        {
         "name": "payment_type",
         "rawType": "float64",
         "type": "float"
        },
        {
         "name": "trip_type",
         "rawType": "float64",
         "type": "float"
        },
        {
         "name": "congestion_surcharge",
         "rawType": "float64",
         "type": "float"
        },
        {
         "name": "duration",
         "rawType": "float64",
         "type": "float"
        },
        {
         "name": "ride_id",
         "rawType": "object",
         "type": "string"
        },
        {
         "name": "PU_DO",
         "rawType": "object",
         "type": "string"
        }
       ],
       "ref": "3def860b-8382-4a83-9d45-594ada108b22",
       "rows": [
        [
         "0",
         "2",
         "2023-01-01 00:26:10",
         "2023-01-01 00:37:11",
         "N",
         "1.0",
         "166",
         "143",
         "1.0",
         "2.58",
         "14.9",
         "1.0",
         "0.5",
         "4.03",
         "0.0",
         null,
         "1.0",
         "24.18",
         "1.0",
         "1.0",
         "2.75",
         "11.016666666666667",
         "4a2c082b-131f-4f07-832f-1562a107d283",
         "166_143"
        ],
        [
         "1",
         "2",
         "2023-01-01 00:51:03",
         "2023-01-01 00:57:49",
         "N",
         "1.0",
         "24",
         "43",
         "1.0",
         "1.81",
         "10.7",
         "1.0",
         "0.5",
         "2.64",
         "0.0",
         null,
         "1.0",
         "15.84",
         "1.0",
         "1.0",
         "0.0",
         "6.766666666666667",
         "98725173-afdd-4fc8-9511-48c185f90a1c",
         "24_43"
        ],
        [
         "2",
         "2",
         "2023-01-01 00:35:12",
         "2023-01-01 00:41:32",
         "N",
         "1.0",
         "223",
         "179",
         "1.0",
         "0.0",
         "7.2",
         "1.0",
         "0.5",
         "1.94",
         "0.0",
         null,
         "1.0",
         "11.64",
         "1.0",
         "1.0",
         "0.0",
         "6.333333333333333",
         "ec6d0205-f954-4c2a-86c1-5e02fb6e727c",
         "223_179"
        ],
        [
         "3",
         "1",
         "2023-01-01 00:13:14",
         "2023-01-01 00:19:03",
         "N",
         "1.0",
         "41",
         "238",
         "1.0",
         "1.3",
         "6.5",
         "0.5",
         "1.5",
         "1.7",
         "0.0",
         null,
         "1.0",
         "10.2",
         "1.0",
         "1.0",
         "0.0",
         "5.816666666666666",
         "7e4cf721-dbdb-4d16-a69a-ea3e03d5b3a8",
         "41_238"
        ],
        [
         "4",
         "1",
         "2023-01-01 00:33:04",
         "2023-01-01 00:39:02",
         "N",
         "1.0",
         "41",
         "74",
         "1.0",
         "1.1",
         "6.0",
         "0.5",
         "1.5",
         "0.0",
         "0.0",
         null,
         "1.0",
         "8.0",
         "1.0",
         "1.0",
         "0.0",
         "5.966666666666667",
         "682b3e2f-5aca-4e8b-b063-7776748fe47d",
         "41_74"
        ]
       ],
       "shape": {
        "columns": 23,
        "rows": 5
       }
      },
      "text/html": [
       "<div>\n",
       "<style scoped>\n",
       "    .dataframe tbody tr th:only-of-type {\n",
       "        vertical-align: middle;\n",
       "    }\n",
       "\n",
       "    .dataframe tbody tr th {\n",
       "        vertical-align: top;\n",
       "    }\n",
       "\n",
       "    .dataframe thead th {\n",
       "        text-align: right;\n",
       "    }\n",
       "</style>\n",
       "<table border=\"1\" class=\"dataframe\">\n",
       "  <thead>\n",
       "    <tr style=\"text-align: right;\">\n",
       "      <th></th>\n",
       "      <th>VendorID</th>\n",
       "      <th>lpep_pickup_datetime</th>\n",
       "      <th>lpep_dropoff_datetime</th>\n",
       "      <th>store_and_fwd_flag</th>\n",
       "      <th>RatecodeID</th>\n",
       "      <th>PULocationID</th>\n",
       "      <th>DOLocationID</th>\n",
       "      <th>passenger_count</th>\n",
       "      <th>trip_distance</th>\n",
       "      <th>fare_amount</th>\n",
       "      <th>...</th>\n",
       "      <th>tolls_amount</th>\n",
       "      <th>ehail_fee</th>\n",
       "      <th>improvement_surcharge</th>\n",
       "      <th>total_amount</th>\n",
       "      <th>payment_type</th>\n",
       "      <th>trip_type</th>\n",
       "      <th>congestion_surcharge</th>\n",
       "      <th>duration</th>\n",
       "      <th>ride_id</th>\n",
       "      <th>PU_DO</th>\n",
       "    </tr>\n",
       "  </thead>\n",
       "  <tbody>\n",
       "    <tr>\n",
       "      <th>0</th>\n",
       "      <td>2</td>\n",
       "      <td>2023-01-01 00:26:10</td>\n",
       "      <td>2023-01-01 00:37:11</td>\n",
       "      <td>N</td>\n",
       "      <td>1.0</td>\n",
       "      <td>166</td>\n",
       "      <td>143</td>\n",
       "      <td>1.0</td>\n",
       "      <td>2.58</td>\n",
       "      <td>14.9</td>\n",
       "      <td>...</td>\n",
       "      <td>0.0</td>\n",
       "      <td>None</td>\n",
       "      <td>1.0</td>\n",
       "      <td>24.18</td>\n",
       "      <td>1.0</td>\n",
       "      <td>1.0</td>\n",
       "      <td>2.75</td>\n",
       "      <td>11.016667</td>\n",
       "      <td>4a2c082b-131f-4f07-832f-1562a107d283</td>\n",
       "      <td>166_143</td>\n",
       "    </tr>\n",
       "    <tr>\n",
       "      <th>1</th>\n",
       "      <td>2</td>\n",
       "      <td>2023-01-01 00:51:03</td>\n",
       "      <td>2023-01-01 00:57:49</td>\n",
       "      <td>N</td>\n",
       "      <td>1.0</td>\n",
       "      <td>24</td>\n",
       "      <td>43</td>\n",
       "      <td>1.0</td>\n",
       "      <td>1.81</td>\n",
       "      <td>10.7</td>\n",
       "      <td>...</td>\n",
       "      <td>0.0</td>\n",
       "      <td>None</td>\n",
       "      <td>1.0</td>\n",
       "      <td>15.84</td>\n",
       "      <td>1.0</td>\n",
       "      <td>1.0</td>\n",
       "      <td>0.00</td>\n",
       "      <td>6.766667</td>\n",
       "      <td>98725173-afdd-4fc8-9511-48c185f90a1c</td>\n",
       "      <td>24_43</td>\n",
       "    </tr>\n",
       "    <tr>\n",
       "      <th>2</th>\n",
       "      <td>2</td>\n",
       "      <td>2023-01-01 00:35:12</td>\n",
       "      <td>2023-01-01 00:41:32</td>\n",
       "      <td>N</td>\n",
       "      <td>1.0</td>\n",
       "      <td>223</td>\n",
       "      <td>179</td>\n",
       "      <td>1.0</td>\n",
       "      <td>0.00</td>\n",
       "      <td>7.2</td>\n",
       "      <td>...</td>\n",
       "      <td>0.0</td>\n",
       "      <td>None</td>\n",
       "      <td>1.0</td>\n",
       "      <td>11.64</td>\n",
       "      <td>1.0</td>\n",
       "      <td>1.0</td>\n",
       "      <td>0.00</td>\n",
       "      <td>6.333333</td>\n",
       "      <td>ec6d0205-f954-4c2a-86c1-5e02fb6e727c</td>\n",
       "      <td>223_179</td>\n",
       "    </tr>\n",
       "    <tr>\n",
       "      <th>3</th>\n",
       "      <td>1</td>\n",
       "      <td>2023-01-01 00:13:14</td>\n",
       "      <td>2023-01-01 00:19:03</td>\n",
       "      <td>N</td>\n",
       "      <td>1.0</td>\n",
       "      <td>41</td>\n",
       "      <td>238</td>\n",
       "      <td>1.0</td>\n",
       "      <td>1.30</td>\n",
       "      <td>6.5</td>\n",
       "      <td>...</td>\n",
       "      <td>0.0</td>\n",
       "      <td>None</td>\n",
       "      <td>1.0</td>\n",
       "      <td>10.20</td>\n",
       "      <td>1.0</td>\n",
       "      <td>1.0</td>\n",
       "      <td>0.00</td>\n",
       "      <td>5.816667</td>\n",
       "      <td>7e4cf721-dbdb-4d16-a69a-ea3e03d5b3a8</td>\n",
       "      <td>41_238</td>\n",
       "    </tr>\n",
       "    <tr>\n",
       "      <th>4</th>\n",
       "      <td>1</td>\n",
       "      <td>2023-01-01 00:33:04</td>\n",
       "      <td>2023-01-01 00:39:02</td>\n",
       "      <td>N</td>\n",
       "      <td>1.0</td>\n",
       "      <td>41</td>\n",
       "      <td>74</td>\n",
       "      <td>1.0</td>\n",
       "      <td>1.10</td>\n",
       "      <td>6.0</td>\n",
       "      <td>...</td>\n",
       "      <td>0.0</td>\n",
       "      <td>None</td>\n",
       "      <td>1.0</td>\n",
       "      <td>8.00</td>\n",
       "      <td>1.0</td>\n",
       "      <td>1.0</td>\n",
       "      <td>0.00</td>\n",
       "      <td>5.966667</td>\n",
       "      <td>682b3e2f-5aca-4e8b-b063-7776748fe47d</td>\n",
       "      <td>41_74</td>\n",
       "    </tr>\n",
       "  </tbody>\n",
       "</table>\n",
       "<p>5 rows × 23 columns</p>\n",
       "</div>"
      ],
      "text/plain": [
       "   VendorID lpep_pickup_datetime lpep_dropoff_datetime store_and_fwd_flag  \\\n",
       "0         2  2023-01-01 00:26:10   2023-01-01 00:37:11                  N   \n",
       "1         2  2023-01-01 00:51:03   2023-01-01 00:57:49                  N   \n",
       "2         2  2023-01-01 00:35:12   2023-01-01 00:41:32                  N   \n",
       "3         1  2023-01-01 00:13:14   2023-01-01 00:19:03                  N   \n",
       "4         1  2023-01-01 00:33:04   2023-01-01 00:39:02                  N   \n",
       "\n",
       "   RatecodeID PULocationID DOLocationID  passenger_count  trip_distance  \\\n",
       "0         1.0          166          143              1.0           2.58   \n",
       "1         1.0           24           43              1.0           1.81   \n",
       "2         1.0          223          179              1.0           0.00   \n",
       "3         1.0           41          238              1.0           1.30   \n",
       "4         1.0           41           74              1.0           1.10   \n",
       "\n",
       "   fare_amount  ...  tolls_amount  ehail_fee  improvement_surcharge  \\\n",
       "0         14.9  ...           0.0       None                    1.0   \n",
       "1         10.7  ...           0.0       None                    1.0   \n",
       "2          7.2  ...           0.0       None                    1.0   \n",
       "3          6.5  ...           0.0       None                    1.0   \n",
       "4          6.0  ...           0.0       None                    1.0   \n",
       "\n",
       "   total_amount payment_type  trip_type  congestion_surcharge   duration  \\\n",
       "0         24.18          1.0        1.0                  2.75  11.016667   \n",
       "1         15.84          1.0        1.0                  0.00   6.766667   \n",
       "2         11.64          1.0        1.0                  0.00   6.333333   \n",
       "3         10.20          1.0        1.0                  0.00   5.816667   \n",
       "4          8.00          1.0        1.0                  0.00   5.966667   \n",
       "\n",
       "                                ride_id    PU_DO  \n",
       "0  4a2c082b-131f-4f07-832f-1562a107d283  166_143  \n",
       "1  98725173-afdd-4fc8-9511-48c185f90a1c    24_43  \n",
       "2  ec6d0205-f954-4c2a-86c1-5e02fb6e727c  223_179  \n",
       "3  7e4cf721-dbdb-4d16-a69a-ea3e03d5b3a8   41_238  \n",
       "4  682b3e2f-5aca-4e8b-b063-7776748fe47d    41_74  \n",
       "\n",
       "[5 rows x 23 columns]"
      ]
     },
     "execution_count": 33,
     "metadata": {},
     "output_type": "execute_result"
    }
   ],
   "source": [
    "output_df = pd.read_parquet(output_file)\n",
    "output_df.head()\n"
   ]
  }
 ],
 "metadata": {
  "kernelspec": {
   "display_name": "ml",
   "language": "python",
   "name": "python3"
  },
  "language_info": {
   "codemirror_mode": {
    "name": "ipython",
    "version": 3
   },
   "file_extension": ".py",
   "mimetype": "text/x-python",
   "name": "python",
   "nbconvert_exporter": "python",
   "pygments_lexer": "ipython3",
   "version": "3.13.2"
  }
 },
 "nbformat": 4,
 "nbformat_minor": 5
}
