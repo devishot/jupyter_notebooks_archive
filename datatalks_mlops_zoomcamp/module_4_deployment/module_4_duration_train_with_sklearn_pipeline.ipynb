{
 "cells": [
  {
   "cell_type": "code",
   "execution_count": 21,
   "id": "10bf4f39",
   "metadata": {
    "vscode": {
     "languageId": "shellscript"
    }
   },
   "outputs": [],
   "source": [
    "import os\n",
    "\n",
    "os.environ[\"MLFLOW_S3_ENDPOINT_URL\"] = \"http://localhost:9000\"\n",
    "os.environ[\"AWS_ACCESS_KEY_ID\"] = \"minio_user\"\n",
    "os.environ[\"AWS_SECRET_ACCESS_KEY\"] = \"minio_password\""
   ]
  },
  {
   "cell_type": "code",
   "execution_count": 22,
   "id": "05d60253-184f-4c7e-ad04-6a6ddbdf6216",
   "metadata": {},
   "outputs": [],
   "source": [
    "import pandas as pd"
   ]
  },
  {
   "cell_type": "code",
   "execution_count": 23,
   "id": "5982343e-8d1a-4e95-a812-e7195f80d2b4",
   "metadata": {},
   "outputs": [],
   "source": [
    "from sklearn.feature_extraction import DictVectorizer\n",
    "from sklearn.metrics import root_mean_squared_error\n",
    "from sklearn.pipeline import make_pipeline\n",
    "from sklearn.ensemble import RandomForestRegressor"
   ]
  },
  {
   "cell_type": "code",
   "execution_count": 24,
   "id": "e0b69131-b4ab-473a-8089-9cd17da7469f",
   "metadata": {},
   "outputs": [
    {
     "data": {
      "text/plain": [
       "<Experiment: artifact_location='mlflow-artifacts:/1', creation_time=1750103452800, experiment_id='1', last_update_time=1750103452800, lifecycle_stage='active', name='module_4_nyc_taxi_duration_prediction_with_sklearn_pipeline_experiment', tags={}>"
      ]
     },
     "execution_count": 24,
     "metadata": {},
     "output_type": "execute_result"
    }
   ],
   "source": [
    "import mlflow\n",
    "\n",
    "# MLFLOW_TRACKING_URI = \"http://ec2-3-123-1-12.eu-central-1.compute.amazonaws.com:5000\"\n",
    "\n",
    "mlflow.set_tracking_uri(\"http://localhost:5000\")\n",
    "mlflow.set_experiment(\"module_4_nyc_taxi_duration_prediction_with_sklearn_pipeline_experiment\")"
   ]
  },
  {
   "cell_type": "code",
   "execution_count": 25,
   "id": "b3cbf3a3-96be-40b2-807e-6450b33f0f10",
   "metadata": {},
   "outputs": [],
   "source": [
    "def read_dataframe(filename):\n",
    "    df = pd.read_parquet(filename)\n",
    "\n",
    "    df['duration'] = df.lpep_dropoff_datetime - df.lpep_pickup_datetime\n",
    "    df.duration = df.duration.apply(lambda td: td.total_seconds() / 60)\n",
    "\n",
    "    df = df[(df.duration >= 1) & (df.duration <= 60)]\n",
    "\n",
    "    categorical = ['PULocationID', 'DOLocationID']\n",
    "    df[categorical] = df[categorical].astype(str)\n",
    "    return df"
   ]
  },
  {
   "cell_type": "code",
   "execution_count": 26,
   "id": "7006ad62",
   "metadata": {},
   "outputs": [],
   "source": [
    "def prepare_dictionaries(df: pd.DataFrame):\n",
    "    df['PU_DO'] = df['PULocationID'] + '_' + df['DOLocationID']\n",
    "    categorical = ['PU_DO']\n",
    "    numerical = ['trip_distance']\n",
    "    dicts = df[categorical + numerical].to_dict(orient='records')\n",
    "    return dicts"
   ]
  },
  {
   "cell_type": "code",
   "execution_count": 27,
   "id": "16f74220-258a-49aa-afff-336e7d8af98d",
   "metadata": {},
   "outputs": [],
   "source": [
    "train_file = '../data/green_tripdata_2025-01.parquet'\n",
    "val_file = '../data/green_tripdata_2025-02.parquet'\n",
    "\n",
    "df_train = read_dataframe(train_file)\n",
    "df_val = read_dataframe(val_file)"
   ]
  },
  {
   "cell_type": "code",
   "execution_count": 28,
   "id": "ad6cfa31",
   "metadata": {},
   "outputs": [],
   "source": [
    "target = 'duration'\n",
    "y_train = df_train[target].values\n",
    "y_val = df_val[target].values"
   ]
  },
  {
   "cell_type": "code",
   "execution_count": 29,
   "id": "fa77ff0e",
   "metadata": {},
   "outputs": [],
   "source": [
    "dict_train = prepare_dictionaries(df_train)\n",
    "dict_val = prepare_dictionaries(df_val)"
   ]
  },
  {
   "cell_type": "code",
   "execution_count": 30,
   "id": "b981e92a-a2cb-4d83-b5f9-756a4473ec47",
   "metadata": {},
   "outputs": [
    {
     "name": "stderr",
     "output_type": "stream",
     "text": [
      "\u001b[31m2025/06/16 22:38:34 WARNING mlflow.models.model: Model logged without a signature and input example. Please set `input_example` parameter when logging the model to auto infer the model signature.\u001b[0m\n"
     ]
    },
    {
     "name": "stdout",
     "output_type": "stream",
     "text": [
      "🏃 View run rebellious-pig-837 at: http://localhost:5000/#/experiments/1/runs/0d228fa7f2a04073a1e097c5a35b55c5\n",
      "🧪 View experiment at: http://localhost:5000/#/experiments/1\n"
     ]
    }
   ],
   "source": [
    "with mlflow.start_run():\n",
    "    params = dict(max_depth=20, n_estimators=100, min_samples_split=10, random_state=0)\n",
    "    mlflow.log_params(params)\n",
    "\n",
    "    pipeline = make_pipeline(\n",
    "        DictVectorizer(), \n",
    "        RandomForestRegressor(**params, n_jobs=-1)\n",
    "    )\n",
    "    pipeline.fit(dict_train, y_train)\n",
    "\n",
    "    y_pred = pipeline.predict(dict_val)\n",
    "\n",
    "    rmse = root_mean_squared_error(y_val, y_pred)\n",
    "    mlflow.log_metric(\"rmse\", rmse)\n",
    "\n",
    "    mlflow.sklearn.log_model(pipeline, artifact_path=\"model\")"
   ]
  }
 ],
 "metadata": {
  "kernelspec": {
   "display_name": "ml",
   "language": "python",
   "name": "python3"
  },
  "language_info": {
   "codemirror_mode": {
    "name": "ipython",
    "version": 3
   },
   "file_extension": ".py",
   "mimetype": "text/x-python",
   "name": "python",
   "nbconvert_exporter": "python",
   "pygments_lexer": "ipython3",
   "version": "3.13.2"
  }
 },
 "nbformat": 4,
 "nbformat_minor": 5
}
