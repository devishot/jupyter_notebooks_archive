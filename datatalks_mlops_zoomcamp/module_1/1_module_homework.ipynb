{
 "cells": [
  {
   "cell_type": "code",
   "execution_count": 28,
   "id": "593999fe-03c9-4bec-929b-4fa200cd7e62",
   "metadata": {},
   "outputs": [],
   "source": [
    "import pandas as pd\n",
    "from sklearn.feature_extraction import DictVectorizer\n",
    "from sklearn.linear_model import LinearRegression\n",
    "from sklearn.metrics import root_mean_squared_error"
   ]
  },
  {
   "cell_type": "code",
   "execution_count": 3,
   "id": "d4f19d10-50cc-4591-a37d-bd7e45640a92",
   "metadata": {},
   "outputs": [],
   "source": [
    "df = pd.read_parquet('./data/yellow_tripdata_2023-01.parquet')"
   ]
  },
  {
   "cell_type": "code",
   "execution_count": 4,
   "id": "fc9066b9-602c-4430-8241-dbbfdf516579",
   "metadata": {},
   "outputs": [
    {
     "data": {
      "text/plain": [
       "19"
      ]
     },
     "execution_count": 4,
     "metadata": {},
     "output_type": "execute_result"
    }
   ],
   "source": [
    "len(df.columns)"
   ]
  },
  {
   "cell_type": "code",
   "execution_count": 5,
   "id": "95d8fded-b602-440e-aceb-0ae894a579ce",
   "metadata": {},
   "outputs": [],
   "source": [
    "df['duration'] = pd.to_datetime(df.tpep_dropoff_datetime) - pd.to_datetime(df.tpep_pickup_datetime)"
   ]
  },
  {
   "cell_type": "code",
   "execution_count": 6,
   "id": "7ee62a98-3162-4ae0-86e2-172a926c725e",
   "metadata": {},
   "outputs": [],
   "source": [
    "df.duration = df.duration.apply(lambda td: td.total_seconds() / 60)"
   ]
  },
  {
   "cell_type": "code",
   "execution_count": 7,
   "id": "542444ed-3a15-49a6-a315-1a323ce2dd7c",
   "metadata": {},
   "outputs": [
    {
     "data": {
      "text/plain": [
       "0           8.433333\n",
       "1           6.316667\n",
       "2          12.750000\n",
       "3           9.616667\n",
       "4          10.833333\n",
       "             ...    \n",
       "3066761    13.983333\n",
       "3066762    19.450000\n",
       "3066763    24.516667\n",
       "3066764    13.000000\n",
       "3066765    14.400000\n",
       "Name: duration, Length: 3066766, dtype: float64"
      ]
     },
     "execution_count": 7,
     "metadata": {},
     "output_type": "execute_result"
    }
   ],
   "source": [
    "df.duration"
   ]
  },
  {
   "cell_type": "code",
   "execution_count": 8,
   "id": "ebcd5a11-7d00-4990-b1c2-1aae6c68dbf2",
   "metadata": {},
   "outputs": [
    {
     "data": {
      "text/plain": [
       "42.594351241920904"
      ]
     },
     "execution_count": 8,
     "metadata": {},
     "output_type": "execute_result"
    }
   ],
   "source": [
    "df.duration.std()"
   ]
  },
  {
   "cell_type": "code",
   "execution_count": 9,
   "id": "37f0f2d5-8706-4174-8ea2-78756036fd72",
   "metadata": {},
   "outputs": [
    {
     "data": {
      "text/plain": [
       "3066766"
      ]
     },
     "execution_count": 9,
     "metadata": {},
     "output_type": "execute_result"
    }
   ],
   "source": [
    "len(df)"
   ]
  },
  {
   "cell_type": "code",
   "execution_count": 10,
   "id": "87180b85-028d-402a-abd1-9f03e99a205a",
   "metadata": {},
   "outputs": [],
   "source": [
    "df = df[(df.duration >= 1) & (df.duration <= 60)]"
   ]
  },
  {
   "cell_type": "code",
   "execution_count": 11,
   "id": "24545980-bd57-42dd-8288-114564c01314",
   "metadata": {},
   "outputs": [
    {
     "data": {
      "text/plain": [
       "3009173"
      ]
     },
     "execution_count": 11,
     "metadata": {},
     "output_type": "execute_result"
    }
   ],
   "source": [
    "len(df)"
   ]
  },
  {
   "cell_type": "code",
   "execution_count": 12,
   "id": "d61f183f-6752-4f9f-a157-7ee3fa2c1da1",
   "metadata": {},
   "outputs": [
    {
     "data": {
      "text/plain": [
       "98.1220282212598"
      ]
     },
     "execution_count": 12,
     "metadata": {},
     "output_type": "execute_result"
    }
   ],
   "source": [
    "fraction = 3009173 * 100 / 3066766\n",
    "fraction"
   ]
  },
  {
   "cell_type": "code",
   "execution_count": 13,
   "id": "625c1073-7420-4daa-bbf0-90f57a7cb99b",
   "metadata": {},
   "outputs": [
    {
     "data": {
      "text/plain": [
       "Index(['VendorID', 'tpep_pickup_datetime', 'tpep_dropoff_datetime',\n",
       "       'passenger_count', 'trip_distance', 'RatecodeID', 'store_and_fwd_flag',\n",
       "       'PULocationID', 'DOLocationID', 'payment_type', 'fare_amount', 'extra',\n",
       "       'mta_tax', 'tip_amount', 'tolls_amount', 'improvement_surcharge',\n",
       "       'total_amount', 'congestion_surcharge', 'airport_fee', 'duration'],\n",
       "      dtype='object')"
      ]
     },
     "execution_count": 13,
     "metadata": {},
     "output_type": "execute_result"
    }
   ],
   "source": [
    "df.columns"
   ]
  },
  {
   "cell_type": "code",
   "execution_count": 15,
   "id": "360db97d-7d09-465c-a2c0-f3b183aa0244",
   "metadata": {},
   "outputs": [],
   "source": [
    "categorical = ['PULocationID', 'DOLocationID']\n",
    "df[categorical] = df[categorical].astype(str)"
   ]
  },
  {
   "cell_type": "code",
   "execution_count": 16,
   "id": "f6194b20-d86b-4fdc-9c19-61d60f6988d1",
   "metadata": {},
   "outputs": [],
   "source": [
    "dv = DictVectorizer()\n",
    "dicts = df[categorical].to_dict(orient='records')\n",
    "X = dv.fit_transform(dicts)"
   ]
  },
  {
   "cell_type": "code",
   "execution_count": 20,
   "id": "cf43f888-1162-48bf-878d-c0b24490e193",
   "metadata": {},
   "outputs": [
    {
     "data": {
      "text/plain": [
       "515"
      ]
     },
     "execution_count": 20,
     "metadata": {},
     "output_type": "execute_result"
    }
   ],
   "source": [
    "# print(X.toarray())\n",
    "len(dv.get_feature_names_out())"
   ]
  },
  {
   "cell_type": "code",
   "execution_count": 39,
   "id": "15581128-733a-4dc8-a921-8b5c79b43a55",
   "metadata": {},
   "outputs": [
    {
     "name": "stdout",
     "output_type": "stream",
     "text": [
      "['DOLocationID=1' 'DOLocationID=10' 'DOLocationID=100' 'DOLocationID=101'\n",
      " 'DOLocationID=102' 'DOLocationID=106' 'DOLocationID=107'\n",
      " 'DOLocationID=108' 'DOLocationID=109' 'DOLocationID=11'\n",
      " 'DOLocationID=111' 'DOLocationID=112' 'DOLocationID=113'\n",
      " 'DOLocationID=114' 'DOLocationID=115' 'DOLocationID=116'\n",
      " 'DOLocationID=117' 'DOLocationID=118' 'DOLocationID=119'\n",
      " 'DOLocationID=12' 'DOLocationID=120' 'DOLocationID=121'\n",
      " 'DOLocationID=122' 'DOLocationID=123' 'DOLocationID=124'\n",
      " 'DOLocationID=125' 'DOLocationID=126' 'DOLocationID=127'\n",
      " 'DOLocationID=128' 'DOLocationID=129' 'DOLocationID=13'\n",
      " 'DOLocationID=130' 'DOLocationID=131' 'DOLocationID=132'\n",
      " 'DOLocationID=133' 'DOLocationID=134' 'DOLocationID=135'\n",
      " 'DOLocationID=136' 'DOLocationID=137' 'DOLocationID=138'\n",
      " 'DOLocationID=139' 'DOLocationID=14' 'DOLocationID=140'\n",
      " 'DOLocationID=141' 'DOLocationID=142' 'DOLocationID=143'\n",
      " 'DOLocationID=144' 'DOLocationID=145' 'DOLocationID=146'\n",
      " 'DOLocationID=147' 'DOLocationID=148' 'DOLocationID=149'\n",
      " 'DOLocationID=15' 'DOLocationID=150' 'DOLocationID=151'\n",
      " 'DOLocationID=152' 'DOLocationID=153' 'DOLocationID=154'\n",
      " 'DOLocationID=155' 'DOLocationID=156' 'DOLocationID=157'\n",
      " 'DOLocationID=158' 'DOLocationID=159' 'DOLocationID=16'\n",
      " 'DOLocationID=160' 'DOLocationID=161' 'DOLocationID=162'\n",
      " 'DOLocationID=163' 'DOLocationID=164' 'DOLocationID=165'\n",
      " 'DOLocationID=166' 'DOLocationID=167' 'DOLocationID=168'\n",
      " 'DOLocationID=169' 'DOLocationID=17' 'DOLocationID=170'\n",
      " 'DOLocationID=171' 'DOLocationID=172' 'DOLocationID=173'\n",
      " 'DOLocationID=174' 'DOLocationID=175' 'DOLocationID=176'\n",
      " 'DOLocationID=177' 'DOLocationID=178' 'DOLocationID=179'\n",
      " 'DOLocationID=18' 'DOLocationID=180' 'DOLocationID=181'\n",
      " 'DOLocationID=182' 'DOLocationID=183' 'DOLocationID=184'\n",
      " 'DOLocationID=185' 'DOLocationID=186' 'DOLocationID=187'\n",
      " 'DOLocationID=188' 'DOLocationID=189' 'DOLocationID=19'\n",
      " 'DOLocationID=190' 'DOLocationID=191' 'DOLocationID=192'\n",
      " 'DOLocationID=193' 'DOLocationID=194' 'DOLocationID=195'\n",
      " 'DOLocationID=196' 'DOLocationID=197' 'DOLocationID=198' 'DOLocationID=2'\n",
      " 'DOLocationID=20' 'DOLocationID=200' 'DOLocationID=201'\n",
      " 'DOLocationID=202' 'DOLocationID=203' 'DOLocationID=204'\n",
      " 'DOLocationID=205' 'DOLocationID=206' 'DOLocationID=207'\n",
      " 'DOLocationID=208' 'DOLocationID=209' 'DOLocationID=21'\n",
      " 'DOLocationID=210' 'DOLocationID=211' 'DOLocationID=212'\n",
      " 'DOLocationID=213' 'DOLocationID=214' 'DOLocationID=215'\n",
      " 'DOLocationID=216' 'DOLocationID=217' 'DOLocationID=218'\n",
      " 'DOLocationID=219' 'DOLocationID=22' 'DOLocationID=220'\n",
      " 'DOLocationID=221' 'DOLocationID=222' 'DOLocationID=223'\n",
      " 'DOLocationID=224' 'DOLocationID=225' 'DOLocationID=226'\n",
      " 'DOLocationID=227' 'DOLocationID=228' 'DOLocationID=229'\n",
      " 'DOLocationID=23' 'DOLocationID=230' 'DOLocationID=231'\n",
      " 'DOLocationID=232' 'DOLocationID=233' 'DOLocationID=234'\n",
      " 'DOLocationID=235' 'DOLocationID=236' 'DOLocationID=237'\n",
      " 'DOLocationID=238' 'DOLocationID=239' 'DOLocationID=24'\n",
      " 'DOLocationID=240' 'DOLocationID=241' 'DOLocationID=242'\n",
      " 'DOLocationID=243' 'DOLocationID=244' 'DOLocationID=245'\n",
      " 'DOLocationID=246' 'DOLocationID=247' 'DOLocationID=248'\n",
      " 'DOLocationID=249' 'DOLocationID=25' 'DOLocationID=250'\n",
      " 'DOLocationID=251' 'DOLocationID=252' 'DOLocationID=253'\n",
      " 'DOLocationID=254' 'DOLocationID=255' 'DOLocationID=256'\n",
      " 'DOLocationID=257' 'DOLocationID=258' 'DOLocationID=259'\n",
      " 'DOLocationID=26' 'DOLocationID=260' 'DOLocationID=261'\n",
      " 'DOLocationID=262' 'DOLocationID=263' 'DOLocationID=264'\n",
      " 'DOLocationID=265' 'DOLocationID=27' 'DOLocationID=28' 'DOLocationID=29'\n",
      " 'DOLocationID=3' 'DOLocationID=30' 'DOLocationID=31' 'DOLocationID=32'\n",
      " 'DOLocationID=33' 'DOLocationID=34' 'DOLocationID=35' 'DOLocationID=36'\n",
      " 'DOLocationID=37' 'DOLocationID=38' 'DOLocationID=39' 'DOLocationID=4'\n",
      " 'DOLocationID=40' 'DOLocationID=41' 'DOLocationID=42' 'DOLocationID=43'\n",
      " 'DOLocationID=44' 'DOLocationID=45' 'DOLocationID=46' 'DOLocationID=47'\n",
      " 'DOLocationID=48' 'DOLocationID=49' 'DOLocationID=5' 'DOLocationID=50'\n",
      " 'DOLocationID=51' 'DOLocationID=52' 'DOLocationID=53' 'DOLocationID=54'\n",
      " 'DOLocationID=55' 'DOLocationID=56' 'DOLocationID=57' 'DOLocationID=58'\n",
      " 'DOLocationID=59' 'DOLocationID=6' 'DOLocationID=60' 'DOLocationID=61'\n",
      " 'DOLocationID=62' 'DOLocationID=63' 'DOLocationID=64' 'DOLocationID=65'\n",
      " 'DOLocationID=66' 'DOLocationID=67' 'DOLocationID=68' 'DOLocationID=69'\n",
      " 'DOLocationID=7' 'DOLocationID=70' 'DOLocationID=71' 'DOLocationID=72'\n",
      " 'DOLocationID=73' 'DOLocationID=74' 'DOLocationID=75' 'DOLocationID=76'\n",
      " 'DOLocationID=77' 'DOLocationID=78' 'DOLocationID=79' 'DOLocationID=8'\n",
      " 'DOLocationID=80' 'DOLocationID=81' 'DOLocationID=82' 'DOLocationID=83'\n",
      " 'DOLocationID=84' 'DOLocationID=85' 'DOLocationID=86' 'DOLocationID=87'\n",
      " 'DOLocationID=88' 'DOLocationID=89' 'DOLocationID=9' 'DOLocationID=90'\n",
      " 'DOLocationID=91' 'DOLocationID=92' 'DOLocationID=93' 'DOLocationID=94'\n",
      " 'DOLocationID=95' 'DOLocationID=96' 'DOLocationID=97' 'DOLocationID=98'\n",
      " 'DOLocationID=99' 'PULocationID=1' 'PULocationID=10' 'PULocationID=100'\n",
      " 'PULocationID=101' 'PULocationID=102' 'PULocationID=106'\n",
      " 'PULocationID=107' 'PULocationID=108' 'PULocationID=109'\n",
      " 'PULocationID=11' 'PULocationID=111' 'PULocationID=112'\n",
      " 'PULocationID=113' 'PULocationID=114' 'PULocationID=115'\n",
      " 'PULocationID=116' 'PULocationID=117' 'PULocationID=118'\n",
      " 'PULocationID=119' 'PULocationID=12' 'PULocationID=120'\n",
      " 'PULocationID=121' 'PULocationID=122' 'PULocationID=123'\n",
      " 'PULocationID=124' 'PULocationID=125' 'PULocationID=126'\n",
      " 'PULocationID=127' 'PULocationID=128' 'PULocationID=129'\n",
      " 'PULocationID=13' 'PULocationID=130' 'PULocationID=131'\n",
      " 'PULocationID=132' 'PULocationID=133' 'PULocationID=134'\n",
      " 'PULocationID=135' 'PULocationID=136' 'PULocationID=137'\n",
      " 'PULocationID=138' 'PULocationID=139' 'PULocationID=14'\n",
      " 'PULocationID=140' 'PULocationID=141' 'PULocationID=142'\n",
      " 'PULocationID=143' 'PULocationID=144' 'PULocationID=145'\n",
      " 'PULocationID=146' 'PULocationID=147' 'PULocationID=148'\n",
      " 'PULocationID=149' 'PULocationID=15' 'PULocationID=150'\n",
      " 'PULocationID=151' 'PULocationID=152' 'PULocationID=153'\n",
      " 'PULocationID=154' 'PULocationID=155' 'PULocationID=156'\n",
      " 'PULocationID=157' 'PULocationID=158' 'PULocationID=159'\n",
      " 'PULocationID=16' 'PULocationID=160' 'PULocationID=161'\n",
      " 'PULocationID=162' 'PULocationID=163' 'PULocationID=164'\n",
      " 'PULocationID=165' 'PULocationID=166' 'PULocationID=167'\n",
      " 'PULocationID=168' 'PULocationID=169' 'PULocationID=17'\n",
      " 'PULocationID=170' 'PULocationID=171' 'PULocationID=172'\n",
      " 'PULocationID=173' 'PULocationID=174' 'PULocationID=175'\n",
      " 'PULocationID=177' 'PULocationID=178' 'PULocationID=179'\n",
      " 'PULocationID=18' 'PULocationID=180' 'PULocationID=181'\n",
      " 'PULocationID=182' 'PULocationID=183' 'PULocationID=184'\n",
      " 'PULocationID=185' 'PULocationID=186' 'PULocationID=187'\n",
      " 'PULocationID=188' 'PULocationID=189' 'PULocationID=19'\n",
      " 'PULocationID=190' 'PULocationID=191' 'PULocationID=192'\n",
      " 'PULocationID=193' 'PULocationID=194' 'PULocationID=195'\n",
      " 'PULocationID=196' 'PULocationID=197' 'PULocationID=198'\n",
      " 'PULocationID=199' 'PULocationID=2' 'PULocationID=20' 'PULocationID=200'\n",
      " 'PULocationID=201' 'PULocationID=202' 'PULocationID=203'\n",
      " 'PULocationID=205' 'PULocationID=206' 'PULocationID=207'\n",
      " 'PULocationID=208' 'PULocationID=209' 'PULocationID=21'\n",
      " 'PULocationID=210' 'PULocationID=211' 'PULocationID=212'\n",
      " 'PULocationID=213' 'PULocationID=214' 'PULocationID=215'\n",
      " 'PULocationID=216' 'PULocationID=217' 'PULocationID=218'\n",
      " 'PULocationID=219' 'PULocationID=22' 'PULocationID=220'\n",
      " 'PULocationID=221' 'PULocationID=222' 'PULocationID=223'\n",
      " 'PULocationID=224' 'PULocationID=225' 'PULocationID=226'\n",
      " 'PULocationID=227' 'PULocationID=228' 'PULocationID=229'\n",
      " 'PULocationID=23' 'PULocationID=230' 'PULocationID=231'\n",
      " 'PULocationID=232' 'PULocationID=233' 'PULocationID=234'\n",
      " 'PULocationID=235' 'PULocationID=236' 'PULocationID=237'\n",
      " 'PULocationID=238' 'PULocationID=239' 'PULocationID=24'\n",
      " 'PULocationID=240' 'PULocationID=241' 'PULocationID=242'\n",
      " 'PULocationID=243' 'PULocationID=244' 'PULocationID=245'\n",
      " 'PULocationID=246' 'PULocationID=247' 'PULocationID=248'\n",
      " 'PULocationID=249' 'PULocationID=25' 'PULocationID=250'\n",
      " 'PULocationID=251' 'PULocationID=252' 'PULocationID=253'\n",
      " 'PULocationID=254' 'PULocationID=255' 'PULocationID=256'\n",
      " 'PULocationID=257' 'PULocationID=258' 'PULocationID=259'\n",
      " 'PULocationID=26' 'PULocationID=260' 'PULocationID=261'\n",
      " 'PULocationID=262' 'PULocationID=263' 'PULocationID=264'\n",
      " 'PULocationID=265' 'PULocationID=28' 'PULocationID=29' 'PULocationID=3'\n",
      " 'PULocationID=30' 'PULocationID=31' 'PULocationID=32' 'PULocationID=33'\n",
      " 'PULocationID=34' 'PULocationID=35' 'PULocationID=36' 'PULocationID=37'\n",
      " 'PULocationID=38' 'PULocationID=39' 'PULocationID=4' 'PULocationID=40'\n",
      " 'PULocationID=41' 'PULocationID=42' 'PULocationID=43' 'PULocationID=44'\n",
      " 'PULocationID=45' 'PULocationID=46' 'PULocationID=47' 'PULocationID=48'\n",
      " 'PULocationID=49' 'PULocationID=5' 'PULocationID=50' 'PULocationID=51'\n",
      " 'PULocationID=52' 'PULocationID=53' 'PULocationID=54' 'PULocationID=55'\n",
      " 'PULocationID=56' 'PULocationID=57' 'PULocationID=58' 'PULocationID=6'\n",
      " 'PULocationID=60' 'PULocationID=61' 'PULocationID=62' 'PULocationID=63'\n",
      " 'PULocationID=64' 'PULocationID=65' 'PULocationID=66' 'PULocationID=67'\n",
      " 'PULocationID=68' 'PULocationID=69' 'PULocationID=7' 'PULocationID=70'\n",
      " 'PULocationID=71' 'PULocationID=72' 'PULocationID=73' 'PULocationID=74'\n",
      " 'PULocationID=75' 'PULocationID=76' 'PULocationID=77' 'PULocationID=78'\n",
      " 'PULocationID=79' 'PULocationID=8' 'PULocationID=80' 'PULocationID=81'\n",
      " 'PULocationID=82' 'PULocationID=83' 'PULocationID=85' 'PULocationID=86'\n",
      " 'PULocationID=87' 'PULocationID=88' 'PULocationID=89' 'PULocationID=9'\n",
      " 'PULocationID=90' 'PULocationID=91' 'PULocationID=92' 'PULocationID=93'\n",
      " 'PULocationID=94' 'PULocationID=95' 'PULocationID=96' 'PULocationID=97'\n",
      " 'PULocationID=98']\n"
     ]
    }
   ],
   "source": [
    "print(dv.get_feature_names_out())"
   ]
  },
  {
   "cell_type": "code",
   "execution_count": 21,
   "id": "7046e417-67a9-4177-92ca-e02fcfd8c47d",
   "metadata": {},
   "outputs": [],
   "source": [
    "target = 'duration'\n",
    "y = df[target]"
   ]
  },
  {
   "cell_type": "code",
   "execution_count": 24,
   "id": "0bccffa1-9ed8-4198-bf51-517eecd8030c",
   "metadata": {},
   "outputs": [
    {
     "data": {
      "text/html": [
       "<style>#sk-container-id-1 {\n",
       "  /* Definition of color scheme common for light and dark mode */\n",
       "  --sklearn-color-text: black;\n",
       "  --sklearn-color-line: gray;\n",
       "  /* Definition of color scheme for unfitted estimators */\n",
       "  --sklearn-color-unfitted-level-0: #fff5e6;\n",
       "  --sklearn-color-unfitted-level-1: #f6e4d2;\n",
       "  --sklearn-color-unfitted-level-2: #ffe0b3;\n",
       "  --sklearn-color-unfitted-level-3: chocolate;\n",
       "  /* Definition of color scheme for fitted estimators */\n",
       "  --sklearn-color-fitted-level-0: #f0f8ff;\n",
       "  --sklearn-color-fitted-level-1: #d4ebff;\n",
       "  --sklearn-color-fitted-level-2: #b3dbfd;\n",
       "  --sklearn-color-fitted-level-3: cornflowerblue;\n",
       "\n",
       "  /* Specific color for light theme */\n",
       "  --sklearn-color-text-on-default-background: var(--sg-text-color, var(--theme-code-foreground, var(--jp-content-font-color1, black)));\n",
       "  --sklearn-color-background: var(--sg-background-color, var(--theme-background, var(--jp-layout-color0, white)));\n",
       "  --sklearn-color-border-box: var(--sg-text-color, var(--theme-code-foreground, var(--jp-content-font-color1, black)));\n",
       "  --sklearn-color-icon: #696969;\n",
       "\n",
       "  @media (prefers-color-scheme: dark) {\n",
       "    /* Redefinition of color scheme for dark theme */\n",
       "    --sklearn-color-text-on-default-background: var(--sg-text-color, var(--theme-code-foreground, var(--jp-content-font-color1, white)));\n",
       "    --sklearn-color-background: var(--sg-background-color, var(--theme-background, var(--jp-layout-color0, #111)));\n",
       "    --sklearn-color-border-box: var(--sg-text-color, var(--theme-code-foreground, var(--jp-content-font-color1, white)));\n",
       "    --sklearn-color-icon: #878787;\n",
       "  }\n",
       "}\n",
       "\n",
       "#sk-container-id-1 {\n",
       "  color: var(--sklearn-color-text);\n",
       "}\n",
       "\n",
       "#sk-container-id-1 pre {\n",
       "  padding: 0;\n",
       "}\n",
       "\n",
       "#sk-container-id-1 input.sk-hidden--visually {\n",
       "  border: 0;\n",
       "  clip: rect(1px 1px 1px 1px);\n",
       "  clip: rect(1px, 1px, 1px, 1px);\n",
       "  height: 1px;\n",
       "  margin: -1px;\n",
       "  overflow: hidden;\n",
       "  padding: 0;\n",
       "  position: absolute;\n",
       "  width: 1px;\n",
       "}\n",
       "\n",
       "#sk-container-id-1 div.sk-dashed-wrapped {\n",
       "  border: 1px dashed var(--sklearn-color-line);\n",
       "  margin: 0 0.4em 0.5em 0.4em;\n",
       "  box-sizing: border-box;\n",
       "  padding-bottom: 0.4em;\n",
       "  background-color: var(--sklearn-color-background);\n",
       "}\n",
       "\n",
       "#sk-container-id-1 div.sk-container {\n",
       "  /* jupyter's `normalize.less` sets `[hidden] { display: none; }`\n",
       "     but bootstrap.min.css set `[hidden] { display: none !important; }`\n",
       "     so we also need the `!important` here to be able to override the\n",
       "     default hidden behavior on the sphinx rendered scikit-learn.org.\n",
       "     See: https://github.com/scikit-learn/scikit-learn/issues/21755 */\n",
       "  display: inline-block !important;\n",
       "  position: relative;\n",
       "}\n",
       "\n",
       "#sk-container-id-1 div.sk-text-repr-fallback {\n",
       "  display: none;\n",
       "}\n",
       "\n",
       "div.sk-parallel-item,\n",
       "div.sk-serial,\n",
       "div.sk-item {\n",
       "  /* draw centered vertical line to link estimators */\n",
       "  background-image: linear-gradient(var(--sklearn-color-text-on-default-background), var(--sklearn-color-text-on-default-background));\n",
       "  background-size: 2px 100%;\n",
       "  background-repeat: no-repeat;\n",
       "  background-position: center center;\n",
       "}\n",
       "\n",
       "/* Parallel-specific style estimator block */\n",
       "\n",
       "#sk-container-id-1 div.sk-parallel-item::after {\n",
       "  content: \"\";\n",
       "  width: 100%;\n",
       "  border-bottom: 2px solid var(--sklearn-color-text-on-default-background);\n",
       "  flex-grow: 1;\n",
       "}\n",
       "\n",
       "#sk-container-id-1 div.sk-parallel {\n",
       "  display: flex;\n",
       "  align-items: stretch;\n",
       "  justify-content: center;\n",
       "  background-color: var(--sklearn-color-background);\n",
       "  position: relative;\n",
       "}\n",
       "\n",
       "#sk-container-id-1 div.sk-parallel-item {\n",
       "  display: flex;\n",
       "  flex-direction: column;\n",
       "}\n",
       "\n",
       "#sk-container-id-1 div.sk-parallel-item:first-child::after {\n",
       "  align-self: flex-end;\n",
       "  width: 50%;\n",
       "}\n",
       "\n",
       "#sk-container-id-1 div.sk-parallel-item:last-child::after {\n",
       "  align-self: flex-start;\n",
       "  width: 50%;\n",
       "}\n",
       "\n",
       "#sk-container-id-1 div.sk-parallel-item:only-child::after {\n",
       "  width: 0;\n",
       "}\n",
       "\n",
       "/* Serial-specific style estimator block */\n",
       "\n",
       "#sk-container-id-1 div.sk-serial {\n",
       "  display: flex;\n",
       "  flex-direction: column;\n",
       "  align-items: center;\n",
       "  background-color: var(--sklearn-color-background);\n",
       "  padding-right: 1em;\n",
       "  padding-left: 1em;\n",
       "}\n",
       "\n",
       "\n",
       "/* Toggleable style: style used for estimator/Pipeline/ColumnTransformer box that is\n",
       "clickable and can be expanded/collapsed.\n",
       "- Pipeline and ColumnTransformer use this feature and define the default style\n",
       "- Estimators will overwrite some part of the style using the `sk-estimator` class\n",
       "*/\n",
       "\n",
       "/* Pipeline and ColumnTransformer style (default) */\n",
       "\n",
       "#sk-container-id-1 div.sk-toggleable {\n",
       "  /* Default theme specific background. It is overwritten whether we have a\n",
       "  specific estimator or a Pipeline/ColumnTransformer */\n",
       "  background-color: var(--sklearn-color-background);\n",
       "}\n",
       "\n",
       "/* Toggleable label */\n",
       "#sk-container-id-1 label.sk-toggleable__label {\n",
       "  cursor: pointer;\n",
       "  display: block;\n",
       "  width: 100%;\n",
       "  margin-bottom: 0;\n",
       "  padding: 0.5em;\n",
       "  box-sizing: border-box;\n",
       "  text-align: center;\n",
       "}\n",
       "\n",
       "#sk-container-id-1 label.sk-toggleable__label-arrow:before {\n",
       "  /* Arrow on the left of the label */\n",
       "  content: \"▸\";\n",
       "  float: left;\n",
       "  margin-right: 0.25em;\n",
       "  color: var(--sklearn-color-icon);\n",
       "}\n",
       "\n",
       "#sk-container-id-1 label.sk-toggleable__label-arrow:hover:before {\n",
       "  color: var(--sklearn-color-text);\n",
       "}\n",
       "\n",
       "/* Toggleable content - dropdown */\n",
       "\n",
       "#sk-container-id-1 div.sk-toggleable__content {\n",
       "  max-height: 0;\n",
       "  max-width: 0;\n",
       "  overflow: hidden;\n",
       "  text-align: left;\n",
       "  /* unfitted */\n",
       "  background-color: var(--sklearn-color-unfitted-level-0);\n",
       "}\n",
       "\n",
       "#sk-container-id-1 div.sk-toggleable__content.fitted {\n",
       "  /* fitted */\n",
       "  background-color: var(--sklearn-color-fitted-level-0);\n",
       "}\n",
       "\n",
       "#sk-container-id-1 div.sk-toggleable__content pre {\n",
       "  margin: 0.2em;\n",
       "  border-radius: 0.25em;\n",
       "  color: var(--sklearn-color-text);\n",
       "  /* unfitted */\n",
       "  background-color: var(--sklearn-color-unfitted-level-0);\n",
       "}\n",
       "\n",
       "#sk-container-id-1 div.sk-toggleable__content.fitted pre {\n",
       "  /* unfitted */\n",
       "  background-color: var(--sklearn-color-fitted-level-0);\n",
       "}\n",
       "\n",
       "#sk-container-id-1 input.sk-toggleable__control:checked~div.sk-toggleable__content {\n",
       "  /* Expand drop-down */\n",
       "  max-height: 200px;\n",
       "  max-width: 100%;\n",
       "  overflow: auto;\n",
       "}\n",
       "\n",
       "#sk-container-id-1 input.sk-toggleable__control:checked~label.sk-toggleable__label-arrow:before {\n",
       "  content: \"▾\";\n",
       "}\n",
       "\n",
       "/* Pipeline/ColumnTransformer-specific style */\n",
       "\n",
       "#sk-container-id-1 div.sk-label input.sk-toggleable__control:checked~label.sk-toggleable__label {\n",
       "  color: var(--sklearn-color-text);\n",
       "  background-color: var(--sklearn-color-unfitted-level-2);\n",
       "}\n",
       "\n",
       "#sk-container-id-1 div.sk-label.fitted input.sk-toggleable__control:checked~label.sk-toggleable__label {\n",
       "  background-color: var(--sklearn-color-fitted-level-2);\n",
       "}\n",
       "\n",
       "/* Estimator-specific style */\n",
       "\n",
       "/* Colorize estimator box */\n",
       "#sk-container-id-1 div.sk-estimator input.sk-toggleable__control:checked~label.sk-toggleable__label {\n",
       "  /* unfitted */\n",
       "  background-color: var(--sklearn-color-unfitted-level-2);\n",
       "}\n",
       "\n",
       "#sk-container-id-1 div.sk-estimator.fitted input.sk-toggleable__control:checked~label.sk-toggleable__label {\n",
       "  /* fitted */\n",
       "  background-color: var(--sklearn-color-fitted-level-2);\n",
       "}\n",
       "\n",
       "#sk-container-id-1 div.sk-label label.sk-toggleable__label,\n",
       "#sk-container-id-1 div.sk-label label {\n",
       "  /* The background is the default theme color */\n",
       "  color: var(--sklearn-color-text-on-default-background);\n",
       "}\n",
       "\n",
       "/* On hover, darken the color of the background */\n",
       "#sk-container-id-1 div.sk-label:hover label.sk-toggleable__label {\n",
       "  color: var(--sklearn-color-text);\n",
       "  background-color: var(--sklearn-color-unfitted-level-2);\n",
       "}\n",
       "\n",
       "/* Label box, darken color on hover, fitted */\n",
       "#sk-container-id-1 div.sk-label.fitted:hover label.sk-toggleable__label.fitted {\n",
       "  color: var(--sklearn-color-text);\n",
       "  background-color: var(--sklearn-color-fitted-level-2);\n",
       "}\n",
       "\n",
       "/* Estimator label */\n",
       "\n",
       "#sk-container-id-1 div.sk-label label {\n",
       "  font-family: monospace;\n",
       "  font-weight: bold;\n",
       "  display: inline-block;\n",
       "  line-height: 1.2em;\n",
       "}\n",
       "\n",
       "#sk-container-id-1 div.sk-label-container {\n",
       "  text-align: center;\n",
       "}\n",
       "\n",
       "/* Estimator-specific */\n",
       "#sk-container-id-1 div.sk-estimator {\n",
       "  font-family: monospace;\n",
       "  border: 1px dotted var(--sklearn-color-border-box);\n",
       "  border-radius: 0.25em;\n",
       "  box-sizing: border-box;\n",
       "  margin-bottom: 0.5em;\n",
       "  /* unfitted */\n",
       "  background-color: var(--sklearn-color-unfitted-level-0);\n",
       "}\n",
       "\n",
       "#sk-container-id-1 div.sk-estimator.fitted {\n",
       "  /* fitted */\n",
       "  background-color: var(--sklearn-color-fitted-level-0);\n",
       "}\n",
       "\n",
       "/* on hover */\n",
       "#sk-container-id-1 div.sk-estimator:hover {\n",
       "  /* unfitted */\n",
       "  background-color: var(--sklearn-color-unfitted-level-2);\n",
       "}\n",
       "\n",
       "#sk-container-id-1 div.sk-estimator.fitted:hover {\n",
       "  /* fitted */\n",
       "  background-color: var(--sklearn-color-fitted-level-2);\n",
       "}\n",
       "\n",
       "/* Specification for estimator info (e.g. \"i\" and \"?\") */\n",
       "\n",
       "/* Common style for \"i\" and \"?\" */\n",
       "\n",
       ".sk-estimator-doc-link,\n",
       "a:link.sk-estimator-doc-link,\n",
       "a:visited.sk-estimator-doc-link {\n",
       "  float: right;\n",
       "  font-size: smaller;\n",
       "  line-height: 1em;\n",
       "  font-family: monospace;\n",
       "  background-color: var(--sklearn-color-background);\n",
       "  border-radius: 1em;\n",
       "  height: 1em;\n",
       "  width: 1em;\n",
       "  text-decoration: none !important;\n",
       "  margin-left: 1ex;\n",
       "  /* unfitted */\n",
       "  border: var(--sklearn-color-unfitted-level-1) 1pt solid;\n",
       "  color: var(--sklearn-color-unfitted-level-1);\n",
       "}\n",
       "\n",
       ".sk-estimator-doc-link.fitted,\n",
       "a:link.sk-estimator-doc-link.fitted,\n",
       "a:visited.sk-estimator-doc-link.fitted {\n",
       "  /* fitted */\n",
       "  border: var(--sklearn-color-fitted-level-1) 1pt solid;\n",
       "  color: var(--sklearn-color-fitted-level-1);\n",
       "}\n",
       "\n",
       "/* On hover */\n",
       "div.sk-estimator:hover .sk-estimator-doc-link:hover,\n",
       ".sk-estimator-doc-link:hover,\n",
       "div.sk-label-container:hover .sk-estimator-doc-link:hover,\n",
       ".sk-estimator-doc-link:hover {\n",
       "  /* unfitted */\n",
       "  background-color: var(--sklearn-color-unfitted-level-3);\n",
       "  color: var(--sklearn-color-background);\n",
       "  text-decoration: none;\n",
       "}\n",
       "\n",
       "div.sk-estimator.fitted:hover .sk-estimator-doc-link.fitted:hover,\n",
       ".sk-estimator-doc-link.fitted:hover,\n",
       "div.sk-label-container:hover .sk-estimator-doc-link.fitted:hover,\n",
       ".sk-estimator-doc-link.fitted:hover {\n",
       "  /* fitted */\n",
       "  background-color: var(--sklearn-color-fitted-level-3);\n",
       "  color: var(--sklearn-color-background);\n",
       "  text-decoration: none;\n",
       "}\n",
       "\n",
       "/* Span, style for the box shown on hovering the info icon */\n",
       ".sk-estimator-doc-link span {\n",
       "  display: none;\n",
       "  z-index: 9999;\n",
       "  position: relative;\n",
       "  font-weight: normal;\n",
       "  right: .2ex;\n",
       "  padding: .5ex;\n",
       "  margin: .5ex;\n",
       "  width: min-content;\n",
       "  min-width: 20ex;\n",
       "  max-width: 50ex;\n",
       "  color: var(--sklearn-color-text);\n",
       "  box-shadow: 2pt 2pt 4pt #999;\n",
       "  /* unfitted */\n",
       "  background: var(--sklearn-color-unfitted-level-0);\n",
       "  border: .5pt solid var(--sklearn-color-unfitted-level-3);\n",
       "}\n",
       "\n",
       ".sk-estimator-doc-link.fitted span {\n",
       "  /* fitted */\n",
       "  background: var(--sklearn-color-fitted-level-0);\n",
       "  border: var(--sklearn-color-fitted-level-3);\n",
       "}\n",
       "\n",
       ".sk-estimator-doc-link:hover span {\n",
       "  display: block;\n",
       "}\n",
       "\n",
       "/* \"?\"-specific style due to the `<a>` HTML tag */\n",
       "\n",
       "#sk-container-id-1 a.estimator_doc_link {\n",
       "  float: right;\n",
       "  font-size: 1rem;\n",
       "  line-height: 1em;\n",
       "  font-family: monospace;\n",
       "  background-color: var(--sklearn-color-background);\n",
       "  border-radius: 1rem;\n",
       "  height: 1rem;\n",
       "  width: 1rem;\n",
       "  text-decoration: none;\n",
       "  /* unfitted */\n",
       "  color: var(--sklearn-color-unfitted-level-1);\n",
       "  border: var(--sklearn-color-unfitted-level-1) 1pt solid;\n",
       "}\n",
       "\n",
       "#sk-container-id-1 a.estimator_doc_link.fitted {\n",
       "  /* fitted */\n",
       "  border: var(--sklearn-color-fitted-level-1) 1pt solid;\n",
       "  color: var(--sklearn-color-fitted-level-1);\n",
       "}\n",
       "\n",
       "/* On hover */\n",
       "#sk-container-id-1 a.estimator_doc_link:hover {\n",
       "  /* unfitted */\n",
       "  background-color: var(--sklearn-color-unfitted-level-3);\n",
       "  color: var(--sklearn-color-background);\n",
       "  text-decoration: none;\n",
       "}\n",
       "\n",
       "#sk-container-id-1 a.estimator_doc_link.fitted:hover {\n",
       "  /* fitted */\n",
       "  background-color: var(--sklearn-color-fitted-level-3);\n",
       "}\n",
       "</style><div id=\"sk-container-id-1\" class=\"sk-top-container\"><div class=\"sk-text-repr-fallback\"><pre>LinearRegression()</pre><b>In a Jupyter environment, please rerun this cell to show the HTML representation or trust the notebook. <br />On GitHub, the HTML representation is unable to render, please try loading this page with nbviewer.org.</b></div><div class=\"sk-container\" hidden><div class=\"sk-item\"><div class=\"sk-estimator fitted sk-toggleable\"><input class=\"sk-toggleable__control sk-hidden--visually\" id=\"sk-estimator-id-1\" type=\"checkbox\" checked><label for=\"sk-estimator-id-1\" class=\"sk-toggleable__label fitted sk-toggleable__label-arrow fitted\">&nbsp;&nbsp;LinearRegression<a class=\"sk-estimator-doc-link fitted\" rel=\"noreferrer\" target=\"_blank\" href=\"https://scikit-learn.org/1.5/modules/generated/sklearn.linear_model.LinearRegression.html\">?<span>Documentation for LinearRegression</span></a><span class=\"sk-estimator-doc-link fitted\">i<span>Fitted</span></span></label><div class=\"sk-toggleable__content fitted\"><pre>LinearRegression()</pre></div> </div></div></div></div>"
      ],
      "text/plain": [
       "LinearRegression()"
      ]
     },
     "execution_count": 24,
     "metadata": {},
     "output_type": "execute_result"
    }
   ],
   "source": [
    "lr = LinearRegression()\n",
    "lr.fit(X, y)"
   ]
  },
  {
   "cell_type": "code",
   "execution_count": 26,
   "id": "849f9aa6-e372-45cd-bcc6-adc127f06732",
   "metadata": {},
   "outputs": [],
   "source": [
    "pred = lr.predict(X)"
   ]
  },
  {
   "cell_type": "code",
   "execution_count": 29,
   "id": "e9988fb3-1296-41d7-8869-20fc9194bc6b",
   "metadata": {},
   "outputs": [
    {
     "data": {
      "text/plain": [
       "7.6492619633678824"
      ]
     },
     "execution_count": 29,
     "metadata": {},
     "output_type": "execute_result"
    }
   ],
   "source": [
    "root_mean_squared_error(y, pred)"
   ]
  },
  {
   "cell_type": "code",
   "execution_count": 30,
   "id": "6ded3f3e-2fcc-455d-87e8-f05fb2e4a510",
   "metadata": {},
   "outputs": [],
   "source": [
    "df_val = pd.read_parquet('./data/yellow_tripdata_2023-02.parquet')"
   ]
  },
  {
   "cell_type": "code",
   "execution_count": 32,
   "id": "af857b30-bd5b-4b8d-821c-217e500a64f6",
   "metadata": {},
   "outputs": [
    {
     "data": {
      "text/plain": [
       "0           1.683333\n",
       "1           0.233333\n",
       "2           0.233333\n",
       "3          32.083333\n",
       "4          13.300000\n",
       "             ...    \n",
       "2913950    19.000000\n",
       "2913951    11.133333\n",
       "2913952    14.000000\n",
       "2913953     7.000000\n",
       "2913954     9.800000\n",
       "Name: duration, Length: 2913955, dtype: float64"
      ]
     },
     "execution_count": 32,
     "metadata": {},
     "output_type": "execute_result"
    }
   ],
   "source": [
    "df_val['duration'] = pd.to_datetime(df_val.tpep_dropoff_datetime) - pd.to_datetime(df_val.tpep_pickup_datetime)\n",
    "df_val.duration = df_val.duration.apply(lambda td: td.total_seconds() / 60)\n",
    "df_val.duration"
   ]
  },
  {
   "cell_type": "code",
   "execution_count": 33,
   "id": "da0db1e8-c634-457c-8fab-efe20a0719a4",
   "metadata": {},
   "outputs": [],
   "source": [
    "df_val = df_val[(df_val.duration >= 1) & (df_val.duration <= 60)]"
   ]
  },
  {
   "cell_type": "code",
   "execution_count": 34,
   "id": "840f86b3-11e1-40ea-95ec-96c281b63974",
   "metadata": {},
   "outputs": [],
   "source": [
    "categorical = ['PULocationID', 'DOLocationID']\n",
    "df_val[categorical] = df_val[categorical].astype(str)"
   ]
  },
  {
   "cell_type": "code",
   "execution_count": 41,
   "id": "61ca4f82-1156-473b-83f9-c80ded4e13a6",
   "metadata": {},
   "outputs": [],
   "source": [
    "dicts_val = df_val[categorical].to_dict(orient='records')\n",
    "X_val = dv.transform(dicts_val)"
   ]
  },
  {
   "cell_type": "code",
   "execution_count": 42,
   "id": "e1068950-6d65-4c66-90b2-709310ec6054",
   "metadata": {},
   "outputs": [],
   "source": [
    "y_pred = lr.predict(X_val)"
   ]
  },
  {
   "cell_type": "code",
   "execution_count": 43,
   "id": "c8a86887-f24f-4453-a70c-042d8aeee924",
   "metadata": {},
   "outputs": [],
   "source": [
    "target = 'duration'\n",
    "y_val = df_val[target]"
   ]
  },
  {
   "cell_type": "code",
   "execution_count": 44,
   "id": "6b0b96cb-639c-4ce1-be6a-67c2335e2391",
   "metadata": {},
   "outputs": [
    {
     "data": {
      "text/plain": [
       "7.81181893596011"
      ]
     },
     "execution_count": 44,
     "metadata": {},
     "output_type": "execute_result"
    }
   ],
   "source": [
    "root_mean_squared_error(y_val, y_pred)"
   ]
  },
  {
   "cell_type": "code",
   "execution_count": null,
   "id": "6131164f-d7e1-46b8-8197-3338c4cd7e03",
   "metadata": {},
   "outputs": [],
   "source": []
  }
 ],
 "metadata": {
  "kernelspec": {
   "display_name": "Python 3 (ipykernel)",
   "language": "python",
   "name": "python3"
  },
  "language_info": {
   "codemirror_mode": {
    "name": "ipython",
    "version": 3
   },
   "file_extension": ".py",
   "mimetype": "text/x-python",
   "name": "python",
   "nbconvert_exporter": "python",
   "pygments_lexer": "ipython3",
   "version": "3.12.7"
  }
 },
 "nbformat": 4,
 "nbformat_minor": 5
}
