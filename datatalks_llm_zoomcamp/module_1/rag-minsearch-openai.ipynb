{
 "cells": [
  {
   "cell_type": "markdown",
   "id": "17542e64",
   "metadata": {},
   "source": [
    "# RAG Intro using minsearch\n",
    "\n",
    "* [DataTalksClub: LLM RAG Workshop](https://github.com/alexeygrigorev/llm-rag-workshop/tree/main/notebooks) – parse_faq.ipynb and documents.json\n",
    "* [DataTalksClub: Build Your Own Search Enginer](https://github.com/alexeygrigorev/build-your-own-search-engine) – creation of minsearch\n",
    "* [minsearch repo](https://github.com/alexeygrigorev/minsearch)"
   ]
  },
  {
   "cell_type": "code",
   "execution_count": null,
   "id": "06290e29",
   "metadata": {},
   "outputs": [
    {
     "name": "stdout",
     "output_type": "stream",
     "text": [
      "Collecting minsearch\n",
      "  Downloading minsearch-0.0.2-py3-none-any.whl.metadata (3.5 kB)\n",
      "Collecting pandas (from minsearch)\n",
      "  Downloading pandas-2.3.0-cp313-cp313-macosx_11_0_arm64.whl.metadata (91 kB)\n",
      "Collecting scikit-learn (from minsearch)\n",
      "  Downloading scikit_learn-1.7.0-cp313-cp313-macosx_12_0_arm64.whl.metadata (31 kB)\n",
      "Collecting numpy>=1.26.0 (from pandas->minsearch)\n",
      "  Using cached numpy-2.3.0-cp313-cp313-macosx_14_0_arm64.whl.metadata (62 kB)\n",
      "Requirement already satisfied: python-dateutil>=2.8.2 in /opt/anaconda3/envs/llm/lib/python3.13/site-packages (from pandas->minsearch) (2.9.0.post0)\n",
      "Collecting pytz>=2020.1 (from pandas->minsearch)\n",
      "  Using cached pytz-2025.2-py2.py3-none-any.whl.metadata (22 kB)\n",
      "Collecting tzdata>=2022.7 (from pandas->minsearch)\n",
      "  Using cached tzdata-2025.2-py2.py3-none-any.whl.metadata (1.4 kB)\n",
      "Requirement already satisfied: six>=1.5 in /opt/anaconda3/envs/llm/lib/python3.13/site-packages (from python-dateutil>=2.8.2->pandas->minsearch) (1.17.0)\n",
      "Collecting scipy>=1.8.0 (from scikit-learn->minsearch)\n",
      "  Using cached scipy-1.15.3-cp313-cp313-macosx_14_0_arm64.whl.metadata (61 kB)\n",
      "Collecting joblib>=1.2.0 (from scikit-learn->minsearch)\n",
      "  Using cached joblib-1.5.1-py3-none-any.whl.metadata (5.6 kB)\n",
      "Collecting threadpoolctl>=3.1.0 (from scikit-learn->minsearch)\n",
      "  Using cached threadpoolctl-3.6.0-py3-none-any.whl.metadata (13 kB)\n",
      "Downloading minsearch-0.0.2-py3-none-any.whl (4.1 kB)\n",
      "Downloading pandas-2.3.0-cp313-cp313-macosx_11_0_arm64.whl (10.7 MB)\n",
      "\u001b[2K   \u001b[90m━━━━━━━━━━━━━━━━━━━━━━━━━━━━━━━━━━━━━━━━\u001b[0m \u001b[32m10.7/10.7 MB\u001b[0m \u001b[31m26.5 MB/s\u001b[0m eta \u001b[36m0:00:00\u001b[0m00:01\u001b[0m0:01\u001b[0m\n",
      "\u001b[?25hUsing cached numpy-2.3.0-cp313-cp313-macosx_14_0_arm64.whl (5.1 MB)\n",
      "Using cached pytz-2025.2-py2.py3-none-any.whl (509 kB)\n",
      "Using cached tzdata-2025.2-py2.py3-none-any.whl (347 kB)\n",
      "Downloading scikit_learn-1.7.0-cp313-cp313-macosx_12_0_arm64.whl (10.6 MB)\n",
      "\u001b[2K   \u001b[90m━━━━━━━━━━━━━━━━━━━━━━━━━━━━━━━━━━━━━━━━\u001b[0m \u001b[32m10.6/10.6 MB\u001b[0m \u001b[31m30.0 MB/s\u001b[0m eta \u001b[36m0:00:00\u001b[0m \u001b[36m0:00:01\u001b[0m\n",
      "\u001b[?25hUsing cached joblib-1.5.1-py3-none-any.whl (307 kB)\n",
      "Using cached scipy-1.15.3-cp313-cp313-macosx_14_0_arm64.whl (22.4 MB)\n",
      "Using cached threadpoolctl-3.6.0-py3-none-any.whl (18 kB)\n",
      "Installing collected packages: pytz, tzdata, threadpoolctl, numpy, joblib, scipy, pandas, scikit-learn, minsearch\n",
      "\u001b[2K   \u001b[90m━━━━━━━━━━━━━━━━━━━━━━━━━━━━━━━━━━━━━━━━\u001b[0m \u001b[32m9/9\u001b[0m [minsearch]/9\u001b[0m [scikit-learn]\n",
      "\u001b[1A\u001b[2KSuccessfully installed joblib-1.5.1 minsearch-0.0.2 numpy-2.3.0 pandas-2.3.0 pytz-2025.2 scikit-learn-1.7.0 scipy-1.15.3 threadpoolctl-3.6.0 tzdata-2025.2\n"
     ]
    }
   ],
   "source": [
    "!pip install minsearch load_dotenv openai"
   ]
  },
  {
   "cell_type": "code",
   "execution_count": 3,
   "id": "5dfe8375",
   "metadata": {},
   "outputs": [],
   "source": [
    "import json\n",
    "import minsearch\n",
    "\n",
    "RAG_DOCUMENT_FILENAME = 'documents.json'\n",
    "\n",
    "def load_documents_into_minsearch():\n",
    "    with open(RAG_DOCUMENT_FILENAME, 'rt') as f_in:\n",
    "        docs_raw = json.load(f_in)\n",
    "\n",
    "    documents = []\n",
    "    for course_dict in docs_raw:\n",
    "        for doc in course_dict['documents']:\n",
    "            doc['course'] = course_dict['course']\n",
    "            documents.append(doc)\n",
    "\n",
    "    print(\"Document example: \", documents[0])\n",
    "\n",
    "    index = minsearch.Index(\n",
    "        text_fields=[\"question\", \"text\", \"section\"],\n",
    "        keyword_fields=[\"course\"]\n",
    "    )\n",
    "    index.fit(documents)\n",
    "\n",
    "    return index"
   ]
  },
  {
   "cell_type": "code",
   "execution_count": 4,
   "id": "5cf0cb5a",
   "metadata": {},
   "outputs": [],
   "source": [
    "RAG_DOCUMENT_COURSE_NAME = 'data-engineering-zoomcamp'\n",
    "\n",
    "def search(index, query):\n",
    "    boost = {\n",
    "    'question': 3.0, # questien field is 3 times more important than text\n",
    "    'section': 0.5\n",
    "    }\n",
    "    results = index.search(\n",
    "        query=query,\n",
    "        filter_dict={'course': RAG_DOCUMENT_COURSE_NAME},\n",
    "        boost_dict=boost,\n",
    "        num_results=2\n",
    "    )\n",
    "    return results"
   ]
  },
  {
   "cell_type": "code",
   "execution_count": 5,
   "id": "bf70f5dc",
   "metadata": {},
   "outputs": [],
   "source": [
    "def build_prompt(query, search_results):\n",
    "    prompt_template = \"\"\"\n",
    "        You're a course teaching assistant. Answer the QUESTION based on the CONTEXT from FAQ database.\n",
    "        Use only the facts from the CONTEXT to answer the QUESTION.\n",
    "        If the CONTEXT doesn't contain the answer, output NONE\n",
    "\n",
    "        QUESTION: {question}\n",
    "        CONTEXT: {context}\n",
    "    \"\"\"\n",
    "    \n",
    "    context = \"\"\n",
    "    for doc in search_results:\n",
    "        context += f'section: {doc[\"section\"]}\\nquestion: {doc[\"question\"]}\\nanswer: {doc[\"text\"]}\\n'\n",
    "\n",
    "    prompt = prompt_template.format(question=query, context=context)\n",
    "    return prompt"
   ]
  },
  {
   "cell_type": "code",
   "execution_count": 6,
   "id": "f5f30850",
   "metadata": {},
   "outputs": [],
   "source": [
    "import os\n",
    "from load_dotenv import load_dotenv\n",
    "load_dotenv()\n",
    "\n",
    "assert len(os.environ['OPENAI_API_KEY']) > 1"
   ]
  },
  {
   "cell_type": "code",
   "execution_count": 7,
   "id": "cdb40df2",
   "metadata": {},
   "outputs": [],
   "source": [
    "from openai import OpenAI\n",
    "\n",
    "def llm(prompt, model='gpt-4o-mini'):\n",
    "    client = OpenAI()\n",
    "    response = client.chat.completions.create(\n",
    "        model=model,\n",
    "        messages=[{'role': 'user', 'content': prompt}]\n",
    "    )\n",
    "    return response.choices[0].message.content"
   ]
  },
  {
   "cell_type": "code",
   "execution_count": 8,
   "id": "26afa1d5",
   "metadata": {},
   "outputs": [
    {
     "name": "stdout",
     "output_type": "stream",
     "text": [
      "Document example:  {'text': \"The purpose of this document is to capture frequently asked technical questions\\nThe exact day and hour of the course will be 15th Jan 2024 at 17h00. The course will start with the first  “Office Hours'' live.1\\nSubscribe to course public Google Calendar (it works from Desktop only).\\nRegister before the course starts using this link.\\nJoin the course Telegram channel with announcements.\\nDon’t forget to register in DataTalks.Club's Slack and join the channel.\", 'section': 'General course-related questions', 'question': 'Course - When will the course start?', 'course': 'data-engineering-zoomcamp'}\n"
     ]
    }
   ],
   "source": [
    "db = load_documents_into_minsearch()\n",
    "\n",
    "def rag(query):\n",
    "    search_results = search(db, query)\n",
    "    prompt = build_prompt(query, search_results)\n",
    "    return llm(prompt)"
   ]
  },
  {
   "cell_type": "code",
   "execution_count": 9,
   "id": "3f4ba79c",
   "metadata": {},
   "outputs": [
    {
     "data": {
      "text/plain": [
       "\"Yes, even if you don't register, you're still eligible to submit the homeworks. Be aware, however, that there will be deadlines for turning in the final projects. So don't leave everything for the last minute.\""
      ]
     },
     "execution_count": 9,
     "metadata": {},
     "output_type": "execute_result"
    }
   ],
   "source": [
    "rag('The course already started, can I still enroll?')\n"
   ]
  }
 ],
 "metadata": {
  "kernelspec": {
   "display_name": "llm",
   "language": "python",
   "name": "python3"
  },
  "language_info": {
   "codemirror_mode": {
    "name": "ipython",
    "version": 3
   },
   "file_extension": ".py",
   "mimetype": "text/x-python",
   "name": "python",
   "nbconvert_exporter": "python",
   "pygments_lexer": "ipython3",
   "version": "3.13.5"
  }
 },
 "nbformat": 4,
 "nbformat_minor": 5
}
