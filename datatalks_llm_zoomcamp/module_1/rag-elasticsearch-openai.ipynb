{
 "cells": [
  {
   "cell_type": "markdown",
   "id": "17542e64",
   "metadata": {},
   "source": [
    "# RAG Intro using minsearch\n",
    "\n",
    "* [DataTalksClub: LLM RAG Workshop](https://github.com/alexeygrigorev/llm-rag-workshop/tree/main/notebooks) – parse_faq.ipynb and documents.json\n",
    "* Elasticsearch 8.4.3"
   ]
  },
  {
   "cell_type": "markdown",
   "id": "0bcd0f7b",
   "metadata": {},
   "source": [
    "To run Elasticsearch locally:\n",
    "\n",
    "```bash\n",
    "docker run -it \\\n",
    "    --rm \\\n",
    "    --name elasticsearch \\\n",
    "    -m 4GB \\\n",
    "    -p 9200:9200 \\\n",
    "    -p 9300:9300 \\\n",
    "    -e \"discovery.type=single-node\" \\\n",
    "    -e \"xpack.security.enabled=false\" \\\n",
    "    docker.elastic.co/elasticsearch/elasticsearch:8.4.3\n",
    "```"
   ]
  },
  {
   "cell_type": "code",
   "execution_count": 6,
   "id": "06290e29",
   "metadata": {},
   "outputs": [
    {
     "name": "stdout",
     "output_type": "stream",
     "text": [
      "Requirement already satisfied: elasticsearch==8.12.1 in /opt/anaconda3/envs/llm/lib/python3.13/site-packages (8.12.1)\n",
      "Requirement already satisfied: load_dotenv in /opt/anaconda3/envs/llm/lib/python3.13/site-packages (0.1.0)\n",
      "Requirement already satisfied: openai in /opt/anaconda3/envs/llm/lib/python3.13/site-packages (1.88.0)\n",
      "Requirement already satisfied: tqdm in /opt/anaconda3/envs/llm/lib/python3.13/site-packages (4.67.1)\n",
      "Collecting ipywidgets\n",
      "  Using cached ipywidgets-8.1.7-py3-none-any.whl.metadata (2.4 kB)\n",
      "Requirement already satisfied: elastic-transport<9,>=8 in /opt/anaconda3/envs/llm/lib/python3.13/site-packages (from elasticsearch==8.12.1) (8.17.1)\n",
      "Requirement already satisfied: urllib3<3,>=1.26.2 in /opt/anaconda3/envs/llm/lib/python3.13/site-packages (from elastic-transport<9,>=8->elasticsearch==8.12.1) (2.5.0)\n",
      "Requirement already satisfied: certifi in /opt/anaconda3/envs/llm/lib/python3.13/site-packages (from elastic-transport<9,>=8->elasticsearch==8.12.1) (2025.6.15)\n",
      "Requirement already satisfied: python-dotenv in /opt/anaconda3/envs/llm/lib/python3.13/site-packages (from load_dotenv) (1.1.0)\n",
      "Requirement already satisfied: anyio<5,>=3.5.0 in /opt/anaconda3/envs/llm/lib/python3.13/site-packages (from openai) (4.9.0)\n",
      "Requirement already satisfied: distro<2,>=1.7.0 in /opt/anaconda3/envs/llm/lib/python3.13/site-packages (from openai) (1.9.0)\n",
      "Requirement already satisfied: httpx<1,>=0.23.0 in /opt/anaconda3/envs/llm/lib/python3.13/site-packages (from openai) (0.28.1)\n",
      "Requirement already satisfied: jiter<1,>=0.4.0 in /opt/anaconda3/envs/llm/lib/python3.13/site-packages (from openai) (0.10.0)\n",
      "Requirement already satisfied: pydantic<3,>=1.9.0 in /opt/anaconda3/envs/llm/lib/python3.13/site-packages (from openai) (2.11.7)\n",
      "Requirement already satisfied: sniffio in /opt/anaconda3/envs/llm/lib/python3.13/site-packages (from openai) (1.3.1)\n",
      "Requirement already satisfied: typing-extensions<5,>=4.11 in /opt/anaconda3/envs/llm/lib/python3.13/site-packages (from openai) (4.14.0)\n",
      "Requirement already satisfied: idna>=2.8 in /opt/anaconda3/envs/llm/lib/python3.13/site-packages (from anyio<5,>=3.5.0->openai) (3.10)\n",
      "Requirement already satisfied: httpcore==1.* in /opt/anaconda3/envs/llm/lib/python3.13/site-packages (from httpx<1,>=0.23.0->openai) (1.0.9)\n",
      "Requirement already satisfied: h11>=0.16 in /opt/anaconda3/envs/llm/lib/python3.13/site-packages (from httpcore==1.*->httpx<1,>=0.23.0->openai) (0.16.0)\n",
      "Requirement already satisfied: annotated-types>=0.6.0 in /opt/anaconda3/envs/llm/lib/python3.13/site-packages (from pydantic<3,>=1.9.0->openai) (0.7.0)\n",
      "Requirement already satisfied: pydantic-core==2.33.2 in /opt/anaconda3/envs/llm/lib/python3.13/site-packages (from pydantic<3,>=1.9.0->openai) (2.33.2)\n",
      "Requirement already satisfied: typing-inspection>=0.4.0 in /opt/anaconda3/envs/llm/lib/python3.13/site-packages (from pydantic<3,>=1.9.0->openai) (0.4.1)\n",
      "Requirement already satisfied: comm>=0.1.3 in /opt/anaconda3/envs/llm/lib/python3.13/site-packages (from ipywidgets) (0.2.2)\n",
      "Requirement already satisfied: ipython>=6.1.0 in /opt/anaconda3/envs/llm/lib/python3.13/site-packages (from ipywidgets) (9.3.0)\n",
      "Requirement already satisfied: traitlets>=4.3.1 in /opt/anaconda3/envs/llm/lib/python3.13/site-packages (from ipywidgets) (5.14.3)\n",
      "Collecting widgetsnbextension~=4.0.14 (from ipywidgets)\n",
      "  Using cached widgetsnbextension-4.0.14-py3-none-any.whl.metadata (1.6 kB)\n",
      "Collecting jupyterlab_widgets~=3.0.15 (from ipywidgets)\n",
      "  Using cached jupyterlab_widgets-3.0.15-py3-none-any.whl.metadata (20 kB)\n",
      "Requirement already satisfied: decorator in /opt/anaconda3/envs/llm/lib/python3.13/site-packages (from ipython>=6.1.0->ipywidgets) (5.2.1)\n",
      "Requirement already satisfied: ipython-pygments-lexers in /opt/anaconda3/envs/llm/lib/python3.13/site-packages (from ipython>=6.1.0->ipywidgets) (1.1.1)\n",
      "Requirement already satisfied: jedi>=0.16 in /opt/anaconda3/envs/llm/lib/python3.13/site-packages (from ipython>=6.1.0->ipywidgets) (0.19.2)\n",
      "Requirement already satisfied: matplotlib-inline in /opt/anaconda3/envs/llm/lib/python3.13/site-packages (from ipython>=6.1.0->ipywidgets) (0.1.7)\n",
      "Requirement already satisfied: pexpect>4.3 in /opt/anaconda3/envs/llm/lib/python3.13/site-packages (from ipython>=6.1.0->ipywidgets) (4.9.0)\n",
      "Requirement already satisfied: prompt_toolkit<3.1.0,>=3.0.41 in /opt/anaconda3/envs/llm/lib/python3.13/site-packages (from ipython>=6.1.0->ipywidgets) (3.0.51)\n",
      "Requirement already satisfied: pygments>=2.4.0 in /opt/anaconda3/envs/llm/lib/python3.13/site-packages (from ipython>=6.1.0->ipywidgets) (2.19.1)\n",
      "Requirement already satisfied: stack_data in /opt/anaconda3/envs/llm/lib/python3.13/site-packages (from ipython>=6.1.0->ipywidgets) (0.6.3)\n",
      "Requirement already satisfied: wcwidth in /opt/anaconda3/envs/llm/lib/python3.13/site-packages (from prompt_toolkit<3.1.0,>=3.0.41->ipython>=6.1.0->ipywidgets) (0.2.13)\n",
      "Requirement already satisfied: parso<0.9.0,>=0.8.4 in /opt/anaconda3/envs/llm/lib/python3.13/site-packages (from jedi>=0.16->ipython>=6.1.0->ipywidgets) (0.8.4)\n",
      "Requirement already satisfied: ptyprocess>=0.5 in /opt/anaconda3/envs/llm/lib/python3.13/site-packages (from pexpect>4.3->ipython>=6.1.0->ipywidgets) (0.7.0)\n",
      "Requirement already satisfied: executing>=1.2.0 in /opt/anaconda3/envs/llm/lib/python3.13/site-packages (from stack_data->ipython>=6.1.0->ipywidgets) (2.2.0)\n",
      "Requirement already satisfied: asttokens>=2.1.0 in /opt/anaconda3/envs/llm/lib/python3.13/site-packages (from stack_data->ipython>=6.1.0->ipywidgets) (3.0.0)\n",
      "Requirement already satisfied: pure_eval in /opt/anaconda3/envs/llm/lib/python3.13/site-packages (from stack_data->ipython>=6.1.0->ipywidgets) (0.2.3)\n",
      "Using cached ipywidgets-8.1.7-py3-none-any.whl (139 kB)\n",
      "Using cached jupyterlab_widgets-3.0.15-py3-none-any.whl (216 kB)\n",
      "Using cached widgetsnbextension-4.0.14-py3-none-any.whl (2.2 MB)\n",
      "Installing collected packages: widgetsnbextension, jupyterlab_widgets, ipywidgets\n",
      "\u001b[2K   \u001b[90m━━━━━━━━━━━━━━━━━━━━━━━━━━━━━━━━━━━━━━━━\u001b[0m \u001b[32m3/3\u001b[0m [ipywidgets]3\u001b[0m [ipywidgets]\n",
      "\u001b[1A\u001b[2KSuccessfully installed ipywidgets-8.1.7 jupyterlab_widgets-3.0.15 widgetsnbextension-4.0.14\n"
     ]
    }
   ],
   "source": [
    "!pip install elasticsearch==8.12.1 load_dotenv openai tqdm ipywidgets"
   ]
  },
  {
   "cell_type": "code",
   "execution_count": 1,
   "id": "b9ce6cdc",
   "metadata": {},
   "outputs": [],
   "source": [
    "from elasticsearch import Elasticsearch\n",
    "\n",
    "ELASTICSEARCH_URI = 'http://localhost:9200'\n",
    "\n",
    "def get_elasticsearch_client():\n",
    "    es_client = Elasticsearch(ELASTICSEARCH_URI, verify_certs=False)\n",
    "    print(\"Elasticsearch client info: \", es_client.info())\n",
    "    return es_client"
   ]
  },
  {
   "cell_type": "code",
   "execution_count": 2,
   "id": "ebea5efe",
   "metadata": {},
   "outputs": [],
   "source": [
    "ELASTICSEARCH_INDEX_NAME = 'course-questions'\n",
    "\n",
    "def setup_elasticsearch_index(es_client):\n",
    "    ELASTICSEARCH_INDEX_SETTINGS = {\n",
    "        \"settings\": {\n",
    "            \"number_of_shards\": 1,\n",
    "            \"number_of_replicas\": 0\n",
    "        },\n",
    "        \"mappings\": {\n",
    "            \"properties\": {\n",
    "                \"text\": {\"type\": \"text\"},\n",
    "                \"section\": {\"type\": \"text\"},\n",
    "                \"question\": {\"type\": \"text\"},\n",
    "                \"course\": {\"type\": \"keyword\"} \n",
    "            }\n",
    "        }\n",
    "    }\n",
    "\n",
    "    if not es_client.indices.exists(index=ELASTICSEARCH_INDEX_NAME):\n",
    "        try:\n",
    "            es_client.indices.create(index=ELASTICSEARCH_INDEX_NAME, body=ELASTICSEARCH_INDEX_SETTINGS)\n",
    "            print(f\"Index '{ELASTICSEARCH_INDEX_NAME}' created.\")\n",
    "        except RequestError as e:\n",
    "            print(f\"Error creating index: {e.info}\")\n",
    "    else:\n",
    "        print(f\"Index '{ELASTICSEARCH_INDEX_NAME}' already exists.\")"
   ]
  },
  {
   "cell_type": "code",
   "execution_count": 3,
   "id": "5dfe8375",
   "metadata": {},
   "outputs": [],
   "source": [
    "import json\n",
    "from tqdm.auto import tqdm\n",
    "\n",
    "RAG_DOCUMENT_FILENAME = 'documents.json'\n",
    "\n",
    "def load_documents_into_elastcsearch(es_client):\n",
    "    if not es_client.indices.exists(index=ELASTICSEARCH_INDEX_NAME):\n",
    "        with open(RAG_DOCUMENT_FILENAME, 'rt') as f_in:\n",
    "            docs_raw = json.load(f_in)\n",
    "\n",
    "        documents = []\n",
    "        for course_dict in docs_raw:\n",
    "            for doc in course_dict['documents']:\n",
    "                doc['course'] = course_dict['course']\n",
    "                documents.append(doc)\n",
    "\n",
    "        print(\"Document example: \", documents[0])\n",
    "\n",
    "        for doc in tqdm(documents):\n",
    "            es_client.index(index=ELASTICSEARCH_INDEX_NAME, body=doc)"
   ]
  },
  {
   "cell_type": "code",
   "execution_count": 4,
   "id": "5cf0cb5a",
   "metadata": {},
   "outputs": [],
   "source": [
    "RAG_DOCUMENT_COURSE_NAME = 'data-engineering-zoomcamp'\n",
    "\n",
    "def search(es_client, query):\n",
    "    search_query = {\n",
    "        \"size\": 5,\n",
    "        \"query\": {\n",
    "            \"bool\": {\n",
    "                \"must\": {\n",
    "                    \"multi_match\": {\n",
    "                        \"query\": query,\n",
    "                        \"fields\": [\"question^3\", \"text\", \"section\"], # # `question`` field is 3 times more important than `text`` and `section``\n",
    "                        \"type\": \"best_fields\"\n",
    "                    }\n",
    "                },\n",
    "                \"filter\": {\n",
    "                    \"term\": {\n",
    "                        \"course\": RAG_DOCUMENT_COURSE_NAME\n",
    "                    }\n",
    "                }\n",
    "            }\n",
    "        }\n",
    "    }\n",
    "    results = es_client.search(index=ELASTICSEARCH_INDEX_NAME, body=search_query)\n",
    "\n",
    "    result_docs = []\n",
    "    for hit in results['hits']['hits']:\n",
    "        result_docs.append(hit['_source'])\n",
    "\n",
    "    return result_docs"
   ]
  },
  {
   "cell_type": "code",
   "execution_count": 5,
   "id": "bf70f5dc",
   "metadata": {},
   "outputs": [],
   "source": [
    "def build_prompt(query, search_results):\n",
    "    prompt_template = \"\"\"\n",
    "        You're a course teaching assistant. Answer the QUESTION based on the CONTEXT from FAQ database.\n",
    "        Use only the facts from the CONTEXT to answer the QUESTION.\n",
    "        If the CONTEXT doesn't contain the answer, output NONE\n",
    "\n",
    "        QUESTION: {question}\n",
    "        CONTEXT: {context}\n",
    "    \"\"\"\n",
    "    \n",
    "    context = \"\"\n",
    "    for doc in search_results:\n",
    "        context += f'section: {doc[\"section\"]}\\nquestion: {doc[\"question\"]}\\nanswer: {doc[\"text\"]}\\n'\n",
    "\n",
    "    prompt = prompt_template.format(question=query, context=context)\n",
    "    return prompt"
   ]
  },
  {
   "cell_type": "code",
   "execution_count": 6,
   "id": "f5f30850",
   "metadata": {},
   "outputs": [],
   "source": [
    "import os\n",
    "from load_dotenv import load_dotenv\n",
    "load_dotenv()\n",
    "\n",
    "assert len(os.environ['OPENAI_API_KEY']) > 1"
   ]
  },
  {
   "cell_type": "code",
   "execution_count": 7,
   "id": "cdb40df2",
   "metadata": {},
   "outputs": [],
   "source": [
    "from openai import OpenAI\n",
    "\n",
    "def llm(prompt, model='gpt-4o-mini'):\n",
    "    client = OpenAI()\n",
    "    response = client.chat.completions.create(\n",
    "        model=model,\n",
    "        messages=[{'role': 'user', 'content': prompt}]\n",
    "    )\n",
    "    return response.choices[0].message.content"
   ]
  },
  {
   "cell_type": "code",
   "execution_count": 8,
   "id": "26afa1d5",
   "metadata": {},
   "outputs": [
    {
     "name": "stdout",
     "output_type": "stream",
     "text": [
      "Elasticsearch client info:  {'name': '743a0f47d938', 'cluster_name': 'docker-cluster', 'cluster_uuid': 'VQRfejziSPWcLEWQCxE9MA', 'version': {'number': '8.4.3', 'build_flavor': 'default', 'build_type': 'docker', 'build_hash': '42f05b9372a9a4a470db3b52817899b99a76ee73', 'build_date': '2022-10-04T07:17:24.662462378Z', 'build_snapshot': False, 'lucene_version': '9.3.0', 'minimum_wire_compatibility_version': '7.17.0', 'minimum_index_compatibility_version': '7.0.0'}, 'tagline': 'You Know, for Search'}\n",
      "Index 'course-questions' already exists.\n"
     ]
    }
   ],
   "source": [
    "es_client = get_elasticsearch_client()\n",
    "setup_elasticsearch_index(es_client)\n",
    "load_documents_into_elastcsearch(es_client)\n",
    "\n",
    "def rag(es_client, query):\n",
    "    search_results = search(es_client, 'The course already started, can I still enroll?')\n",
    "    prompt = build_prompt(query, search_results)\n",
    "    return llm(prompt)"
   ]
  },
  {
   "cell_type": "code",
   "execution_count": 10,
   "id": "3f4ba79c",
   "metadata": {},
   "outputs": [
    {
     "data": {
      "text/plain": [
       "\"Yes, even if you don't register, you're still eligible to submit the homeworks. Be aware, however, that there will be deadlines for turning in the final projects.\""
      ]
     },
     "execution_count": 10,
     "metadata": {},
     "output_type": "execute_result"
    }
   ],
   "source": [
    "rag(es_client, 'The course already started, can I still enroll?')\n"
   ]
  }
 ],
 "metadata": {
  "kernelspec": {
   "display_name": "llm",
   "language": "python",
   "name": "python3"
  },
  "language_info": {
   "codemirror_mode": {
    "name": "ipython",
    "version": 3
   },
   "file_extension": ".py",
   "mimetype": "text/x-python",
   "name": "python",
   "nbconvert_exporter": "python",
   "pygments_lexer": "ipython3",
   "version": "3.13.5"
  }
 },
 "nbformat": 4,
 "nbformat_minor": 5
}
